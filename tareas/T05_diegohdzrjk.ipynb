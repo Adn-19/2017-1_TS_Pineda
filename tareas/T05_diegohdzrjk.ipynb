{
 "cells": [
  {
   "cell_type": "markdown",
   "metadata": {},
   "source": [
    "# Tarea 5"
   ]
  },
  {
   "cell_type": "markdown",
   "metadata": {},
   "source": [
    "* Verificar que el estado de Bob antes de aprender los resultados de la medición de Alice, es equivalente a tener un estado $|0\\rangle$ o $|1\\rangle$ con igual probabilidad.\n",
    "* Hacer un script que verifique el la traza parcial de un estado aleatorio, tiene traza uno y es semipositiva. Ponerlo en forma de Travis CI. "
   ]
  },
  {
   "cell_type": "markdown",
   "metadata": {},
   "source": [
    "## Primer punto"
   ]
  },
  {
   "cell_type": "markdown",
   "metadata": {},
   "source": [
    "**Citando el notebook 05_sistemas_abiertos**"
   ]
  },
  {
   "cell_type": "markdown",
   "metadata": {},
   "source": [
    "Vamos a suponer que el qubit desconocido está en el estado\n",
    "\\begin{equation}\n",
    "|\\psi\\rangle = \\alpha |0\\rangle + \\beta |1\\rangle.\n",
    "\\end{equation}\n",
    "El estado de los otros dos qubits es un par de Bell, esto es\n",
    "\\begin{equation}\n",
    "|\\psi\\rangle_{AB} = \\frac{1}{\\sqrt{2}}( |00\\rangle + |11\\rangle).\n",
    "\\end{equation}\n",
    "por lo que el estado inicial será\n",
    "\\begin{align*}\n",
    "|\\psi_0\\rangle =  \\frac{1}{\\sqrt{2}}(\\alpha |0\\rangle + \\beta |1\\rangle)(|00\\rangle + |11\\rangle)\n",
    "= \\frac{1}{\\sqrt{2}}(\\alpha |000\\rangle + \\alpha |011\\rangle + \\beta |100\\rangle + \\beta |111\\rangle).\n",
    "\\end{align*}\n",
    "\n",
    "Después de eso, tendremos que tenemos que hacer un _control not_ (CN). El CN es una operación unitaria que hace un NOT si el qubit de control está encendido. Esto es, va a tener el efecto\n",
    "\\begin{align*}\n",
    "U_{CN}|00\\rangle &= |00\\rangle  \\\\\n",
    "U_{CN}|01\\rangle &= |01\\rangle \\\\\n",
    "U_{CN}|10\\rangle &= |11\\rangle \\\\\n",
    "U_{CN}|11\\rangle &= |01\\rangle\n",
    "\\end{align*}\n",
    "donde el qubit de control es el primero y el target qubit es el segundo. \n",
    "\n",
    "Entonces, el efecto sobre el estado sera \n",
    "\\begin{equation}\n",
    "|\\psi_1\\rangle = U_{CN}^{qA} |\\psi_0\\rangle = \n",
    "\\frac{1}{\\sqrt{2}}(\\alpha |000\\rangle + \\alpha |011\\rangle + \\beta |110\\rangle + \\beta |101\\rangle).\n",
    "\\end{equation}\n",
    "Después hacemos el Hadamard gate ...\n",
    "\n",
    "\\begin{align}\n",
    "|\\psi_2\\rangle & =\\frac12(\n",
    "\\alpha|000\\rangle  + \\alpha|100\\rangle +  \\alpha|011\\rangle  + \\alpha|111\\rangle  + \\beta|010\\rangle  - \\beta|110\\rangle  + \\beta|001\\rangle -\\beta|101\\rangle) \\\\\n",
    "&=\\frac12(\n",
    "|00\\rangle(\\alpha|0\\rangle + \\beta|1\\rangle) +|01\\rangle(\\alpha|1\\rangle + \\beta|0\\rangle) +|10\\rangle(\\alpha|0\\rangle - \\beta|1\\rangle) +|11\\rangle(\\alpha|1\\rangle - \\beta|0\\rangle)\n",
    ").\n",
    "\\end{align}"
   ]
  },
  {
   "cell_type": "markdown",
   "metadata": {},
   "source": [
    "El estado del sistema antes de que Alice realiza su medición es:\n",
    "\n",
    "$$\n",
    "|\\psi\\rangle =\\frac12(\n",
    "\\alpha|000\\rangle  + \\alpha|100\\rangle +  \\alpha|011\\rangle  + \\alpha|111\\rangle  + \\beta|010\\rangle  - \\beta|110\\rangle  + \\beta|001\\rangle -\\beta|101\\rangle)\n",
    "$$\n",
    "Por lo que la matriz densidad del sistema completo es \n",
    "\n",
    "\\begin{align}\n",
    "\\rho = \\frac{1}{4}\\bigg(&|00\\rangle\\langle00|(\\alpha|0\\rangle+\\beta|1\\rangle)(\\alpha^*\\langle0|+\\beta^*\\langle1|)  \\\\\n",
    "+&|01\\rangle\\langle01|(\\alpha|1\\rangle+\\beta|0\\rangle)(\\alpha^*\\langle1|+\\beta^*\\langle0|)  \\\\\n",
    "+&|10\\rangle\\langle10|(\\alpha|0\\rangle-\\beta|1\\rangle)(\\alpha^*\\langle0|-\\beta^*\\langle1|)  \\\\\n",
    "+&|11\\rangle\\langle11|(\\alpha|1\\rangle-\\beta|0\\rangle)(\\alpha^*\\langle1|-\\beta^*\\langle0|) \\bigg)\n",
    "\\end{align}\n",
    "\n",
    "Como nos interesa como reacciona el sistema de Bob tenemos que \"quitar\" la información de del sistema de Alice, por lo tanto se tiene que tomar la traza parcial respecto a los primeros dos qubits.\n",
    "\n",
    "Por lo que la matriz de densidad reducida de Bob es:\n",
    "\\begin{align}\n",
    "\\rho_B = \\frac{1}{4}\\bigg(&(\\alpha|0\\rangle+\\beta|1\\rangle)(\\alpha^*\\langle0|+\\beta^*\\langle1|)  \\\\\n",
    "+&(\\alpha|1\\rangle+\\beta|0\\rangle)(\\alpha^*\\langle1|+\\beta^*\\langle0|)  \\\\\n",
    "+&(\\alpha|0\\rangle-\\beta|1\\rangle)(\\alpha^*\\langle0|-\\beta^*\\langle1|)  \\\\\n",
    "+&(\\alpha|1\\rangle-\\beta|0\\rangle)(\\alpha^*\\langle1|-\\beta^*\\langle0|) \\bigg)\n",
    "\\end{align}\n",
    "\n",
    "Que se puede reducir a \n",
    "\n",
    "\\begin{align}\n",
    "\\rho_B =& \\frac{1}{4}\\bigg(2(|\\alpha|^2+|\\beta|^2)|0\\rangle\\langle0|+2(|\\alpha|^2+|\\beta|^2)|1\\rangle\\langle1| \\bigg)\\\\\n",
    "\\rho_B =& \\frac{1}{2}\\bigg(|0\\rangle\\langle0|+|1\\rangle\\langle1| \\bigg)\n",
    "\\end{align}\n",
    "\n",
    "\n",
    "Por lo tanto cualquier medición que realize Bob en sus sistema sin tener información adicional, la que es proporcionada por Alice, es análogo a tener un resultado aleatorio con probabilidad $\\frac{1}{2}$. Adicionalmente si Bob aplica cualquier matriz de Pauli al sistema, no adquiere más información ya que éstas son solamente rotaciones sólidas sobre la esfera de Boch."
   ]
  },
  {
   "cell_type": "markdown",
   "metadata": {},
   "source": [
    "Para ver que la traza parcial de un estado aleatorio tiene traza uno y es semipositiva se implemento el siguiente código en un archivo .jl que se encuentra en la carpeta https://github.com/diegohdzrjk/Prueba_travis/tree/master/Tarea5 y el resultado de Travis CI se encuentra en https://github.com/diegohdzrjk/Prueba_travis."
   ]
  },
  {
   "cell_type": "code",
   "execution_count": 2,
   "metadata": {
    "collapsed": false
   },
   "outputs": [],
   "source": [
    "using Base.Test\n",
    "# Vectorizado\n",
    "\"\"\"\n",
    "Traza parcial\n",
    "\"\"\"\n",
    "function partial_trace_pure_bipartite_mat(state,dim,system)\n",
    "    dimtotal=length(state)[1]\n",
    "    dimcomp=Int(dimtotal/dim)\n",
    "    if system==1\n",
    "    psi=reshape(state,(dimcomp,dim))'\n",
    "        return psi*psi'\n",
    "        elseif system==2\n",
    "     psi=reshape(state,(dim,dimcomp))'\n",
    "        return psi'*psi\n",
    "    end\n",
    "end\n",
    "\n",
    "function random_state(dim=2::Int)\n",
    "    v=randn(1,dim)+randn(1,dim)im\n",
    "    v=v/norm(v)\n",
    "    return v'\n",
    "end\n",
    "\n",
    "function traza_parcial_estado(n)\n",
    "    return trace(partial_trace_pure_bipartite_mat(random_state(n),n,1))\n",
    "end\n",
    "\n",
    "\n",
    "function check_traza_parcial(traza)\n",
    "    if imag(traza)<1e-6 && abs(real(traza)-1.0)<1e-6\n",
    "        return true\n",
    "    else\n",
    "        return false\n",
    "    end\n",
    "end\n",
    "\n",
    "\n",
    "@test check_traza_parcial(traza_parcial_estado(10))"
   ]
  },
  {
   "cell_type": "code",
   "execution_count": null,
   "metadata": {
    "collapsed": true
   },
   "outputs": [],
   "source": []
  }
 ],
 "metadata": {
  "kernelspec": {
   "display_name": "Julia 0.4.6",
   "language": "julia",
   "name": "julia-0.4"
  },
  "language_info": {
   "file_extension": ".jl",
   "mimetype": "application/julia",
   "name": "julia",
   "version": "0.4.6"
  }
 },
 "nbformat": 4,
 "nbformat_minor": 0
}
