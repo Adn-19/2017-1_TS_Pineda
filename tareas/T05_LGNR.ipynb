{
 "cells": [
  {
   "cell_type": "markdown",
   "metadata": {},
   "source": [
    "# Punto 1"
   ]
  },
  {
   "cell_type": "markdown",
   "metadata": {},
   "source": [
    "Partiendo de que \n",
    "\n",
    "$$\n",
    "\\text{tr}_B\n",
    "|a_1 b_1\\rangle\\langle a_2 b_2|=\\langle b_2|b_1\\rangle |a_1 \\rangle\\langle a_2|,\n",
    "$$\n",
    " \n",
    "Y considerando que $ \\left | \\psi \\right \\rangle  = \\frac{1}{2}\\left(\\left | 00 \\right \\rangle + \\left | 11 \\right \\rangle  \\right) $ y que $\\rho = \\left | \\psi \\right \\rangle \\left \\langle \\psi \\right |  $ \n",
    "\n",
    "Tenemos lo siguiente\n",
    "\n",
    "\\begin{align*}\n",
    "\\text{tr}_B(\\rho) &= \\text{tr}_B \\left[ \\frac{1}{2}  \\left( \\left | 00 \\right \\rangle + \\left | 11 \\right \\rangle \\right )  \\left( \\left \\langle 00 \\right | + \\left \\langle 11 \\right | \\right )  \\right ] = \\text{tr}_B \\left[ \\frac{1}{2} \\left( \\left | 00 \\right \\rangle  \\left \\langle 00 \\right | +  \\left | 00 \\right \\rangle  \\left \\langle 11 \\right | + \\left | 11 \\right \\rangle  \\left \\langle 00 \\right | + \\left | 11 \\right \\rangle  \\left \\langle 11 \\right |   \\right) \\right ] \\\\\n",
    " &= \\frac{1}{2}\\left[ \\left \\langle 0 | 0 \\right>  \\left| 0 \\right \\rangle \\left \\langle 0 \\right | + \\left \\langle 0 | 1 \\right>  \\left| 0 \\right \\rangle \\left \\langle 1 \\right | + \\left \\langle1 | 0 \\right>  \\left| 1 \\right \\rangle \\left \\langle 0 \\right | + \\left \\langle 1 | 1 \\right>  \\left| 1 \\right \\rangle \\left \\langle 1 \\right | \\right] \\\\\n",
    " &=  \\frac{1}{2}\\left[ \\left| 0 \\right \\rangle \\left \\langle 0 \\right | + \\left| 1 \\right \\rangle \\left \\langle 1 \\right |   \\right]\n",
    "\\end{align*}\n",
    "\n",
    "Lo cual es equivalente a tener un estado $|0\\rangle$ o $|1\\rangle$ con igual probabilidad."
   ]
  },
  {
   "cell_type": "markdown",
   "metadata": {},
   "source": [
    "# Punto 2. La verificación en Travis CI está en otro repositorio  https://github.com/LGNR/Prueba_travis donde se puede ver que se construye exitosamente con el archivo tarea5.jl"
   ]
  },
  {
   "cell_type": "code",
   "execution_count": 14,
   "metadata": {
    "collapsed": false
   },
   "outputs": [
    {
     "name": "stderr",
     "output_type": "stream",
     "text": [
      "WARNING: replacing module quantum\n",
      "WARNING: [a,b,...] concatenation is deprecated; use [a;b;...] instead\n",
      " in depwarn at deprecated.jl:73\n",
      " in oldstyle_vcat_warning at ./abstractarray.jl:29\n",
      " in vect at abstractarray.jl:32\n",
      " in include_string at loading.jl:282\n",
      " in execute_request at /home/lgnr/.julia/v0.4/IJulia/src/execute_request.jl:164\n",
      " in eventloop at /home/lgnr/.julia/v0.4/IJulia/src/IJulia.jl:138\n",
      " in anonymous at task.jl:447\n",
      "while loading In[14], in expression starting on line 20\n"
     ]
    },
    {
     "data": {
      "text/plain": [
       "quantum"
      ]
     },
     "execution_count": 14,
     "metadata": {},
     "output_type": "execute_result"
    }
   ],
   "source": [
    "__precompile__() # Este comando es para que julia precompile el paquete\n",
    "\n",
    "module quantum\n",
    "\n",
    "export random_state, projector, sigma_x, sigma_y, sigma_z, sigmas\n",
    "\n",
    "function random_state(dim=2::Int)\n",
    "    v=randn(1,dim)+randn(1,dim)im\n",
    "    v=v/norm(v)\n",
    "    return v'\n",
    "end\n",
    "\n",
    "function projector(state)\n",
    "    return state*state'\n",
    "end\n",
    "\n",
    "sigma_x=[0. 1.; 1. 0.]\n",
    "sigma_y=[0. -im; im 0]\n",
    "sigma_z=[1. 0.;0. -1.]\n",
    "sigmas=[sigma_x, sigma_y, sigma_z]\n",
    "\n",
    "end"
   ]
  },
  {
   "cell_type": "code",
   "execution_count": 15,
   "metadata": {
    "collapsed": true
   },
   "outputs": [],
   "source": [
    "using quantum"
   ]
  },
  {
   "cell_type": "code",
   "execution_count": 10,
   "metadata": {
    "collapsed": false
   },
   "outputs": [
    {
     "data": {
      "text/plain": [
       "partial_trace_pure_bipartite_mat (generic function with 1 method)"
      ]
     },
     "execution_count": 10,
     "metadata": {},
     "output_type": "execute_result"
    }
   ],
   "source": [
    "\"\"\"\n",
    "Traza parcial \n",
    "\"\"\"\n",
    "function partial_trace_pure_bipartite_mat(state,dim,system)\n",
    "    dimtotal=length(state)[1]\n",
    "    dimcomp=Int(dimtotal/dim)\n",
    "    if system==1\n",
    "    psi=reshape(state,(dimcomp,dim))'\n",
    "        return psi*psi'\n",
    "        elseif system==2\n",
    "     psi=reshape(state,(dim,dimcomp))'\n",
    "        return psi'*psi\n",
    "    end\n",
    "end"
   ]
  },
  {
   "cell_type": "code",
   "execution_count": 17,
   "metadata": {
    "collapsed": false
   },
   "outputs": [],
   "source": [
    "state_A=random_state(3);\n",
    "state_B=random_state(5);\n",
    "stateAB=kron(state_A,state_B);"
   ]
  },
  {
   "cell_type": "code",
   "execution_count": 20,
   "metadata": {
    "collapsed": false
   },
   "outputs": [
    {
     "data": {
      "text/plain": [
       "0.9999999999999998 + 0.0im"
      ]
     },
     "execution_count": 20,
     "metadata": {},
     "output_type": "execute_result"
    }
   ],
   "source": [
    "trace(partial_trace_pure_bipartite_mat(stateAB,3,1))"
   ]
  },
  {
   "cell_type": "code",
   "execution_count": 21,
   "metadata": {
    "collapsed": false
   },
   "outputs": [
    {
     "data": {
      "text/plain": [
       "0.9999999999999998 + 0.0im"
      ]
     },
     "execution_count": 21,
     "metadata": {},
     "output_type": "execute_result"
    }
   ],
   "source": [
    "trace(partial_trace_pure_bipartite_mat(stateAB,5,2))"
   ]
  }
 ],
 "metadata": {
  "kernelspec": {
   "display_name": "Julia 0.4.6",
   "language": "julia",
   "name": "julia-0.4"
  },
  "language_info": {
   "file_extension": ".jl",
   "mimetype": "application/julia",
   "name": "julia",
   "version": "0.4.6"
  }
 },
 "nbformat": 4,
 "nbformat_minor": 0
}
