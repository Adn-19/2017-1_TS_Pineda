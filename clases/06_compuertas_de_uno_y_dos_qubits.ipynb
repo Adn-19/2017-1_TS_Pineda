{
 "cells": [
  {
   "cell_type": "markdown",
   "metadata": {
    "collapsed": true
   },
   "source": [
    "# Algunos de los topicos a tratar\n",
    "\n",
    "* Representacion como vector de un sistema de n qubits.\n",
    "* 1 qubit operations\n",
    "* 2 qubits operations (en particular, interacción de Ising\n"
   ]
  },
  {
   "cell_type": "code",
   "execution_count": 288,
   "metadata": {
    "collapsed": false
   },
   "outputs": [
    {
     "data": {
      "text/plain": [
       "1x7 Array{Symbol,2}:\n",
       " :projector  :quantum  :random_state  :sigma_x  :sigma_y  :sigma_z  :sigmas"
      ]
     },
     "execution_count": 288,
     "metadata": {},
     "output_type": "execute_result"
    }
   ],
   "source": [
    "push!(LOAD_PATH, \".\");\n",
    "using quantum\n",
    "names(quantum)'"
   ]
  },
  {
   "cell_type": "code",
   "execution_count": 290,
   "metadata": {
    "collapsed": true
   },
   "outputs": [],
   "source": [
    "psi=random_state(2);\n",
    "θ=2*π*rand();\n",
    "\n",
    "θm=exp(-im*θ);\n",
    "θp=conj(θm);"
   ]
  },
  {
   "cell_type": "markdown",
   "metadata": {},
   "source": [
    "Comenzaremos recordando como se ve el operador de evolución correspondiente a un campo magnético, de magnitud $\\theta$ y dirección $z$:\n",
    "\\begin{equation}\n",
    "\\text{exp}(-i \\theta \\sigma_z) =\n",
    "\\begin{pmatrix}\n",
    "e^{-i\\theta} & 0\\\\\n",
    "0& e^{i\\theta}\n",
    "\\end{pmatrix}\n",
    "\\end{equation}\n",
    "En la siguiente linea mostramos explícitamente esta relación y de paso mostramos un comando útil: \n",
    "~~~\n",
    "expm\n",
    "~~~\n",
    "que calcula la exponencial de una matriz."
   ]
  },
  {
   "cell_type": "code",
   "execution_count": 7,
   "metadata": {
    "collapsed": false
   },
   "outputs": [
    {
     "name": "stdout",
     "output_type": "stream",
     "text": [
      "norm(expm(-im * θ * sigma_z) - [[θm,0] [0,θp]]) = 2.482534153247273e-16\n"
     ]
    }
   ],
   "source": [
    "@show norm(expm(-im*θ*sigma_z)-[[θm, 0] [0, θp]]);"
   ]
  },
  {
   "cell_type": "markdown",
   "metadata": {},
   "source": [
    "Ahora mostramos que aplicar la matriz, es lo mismo que operar por vectores componente a componente. Es decir, la ecuacion trivial\n",
    "\\begin{equation}\n",
    "\\text{exp}(-i\\theta \\sigma_z)\\psi=\n",
    "\\begin{pmatrix}\n",
    "e^{-i\\theta} \\psi_1 \\\\\n",
    "e^{i\\theta} \\psi_0 \\\\\n",
    "\\end{pmatrix}\n",
    "\\end{equation}\n",
    "Podemos ver como afecta componente por componente. "
   ]
  },
  {
   "cell_type": "code",
   "execution_count": 291,
   "metadata": {
    "collapsed": false
   },
   "outputs": [
    {
     "name": "stdout",
     "output_type": "stream",
     "text": [
      "norm(expm(-im * θ * sigma_z) * psi - [psi[1] * θm,psi[2] * θp]) = 3.377324398933778e-16\n"
     ]
    }
   ],
   "source": [
    "@show norm(expm(-im*θ*sigma_z)*psi-[psi[1]*θm, psi[2]*θp]);"
   ]
  },
  {
   "cell_type": "markdown",
   "metadata": {},
   "source": [
    "Para definir estados de qubits, que por hende tienen dimencion $2^N$, donde $N$ es el numero de qubits, es útil usar notación binaria:\n",
    "\n",
    "Consideremos el espacio de Hilbert de $n$ qubits. La base computational está formada por secuencias de 0s y 1s. Es claro entonces que la dimensión del espacio de Hilbert es  $2^N$. Para 3 qubits, la base computacional sería\n",
    "\\begin{align}\n",
    "&|000\\rangle\\\\\n",
    "&|001\\rangle\\\\\n",
    "&|010\\rangle\\\\\n",
    "&|011\\rangle\\\\\n",
    "&|100\\rangle\\\\\n",
    "&|101\\rangle\\\\\n",
    "&|110\\rangle\\\\\n",
    "&|111\\rangle.\n",
    "\\end{align}\n",
    "Para codificar esto de manera conveniente, usar notación binaria. Recordemos, por ejemplo que \n",
    "\\begin{equation}\n",
    "(5)_{10} = (101)_2\n",
    "\\end{equation}\n",
    "de tal manera que podemos resumir \n",
    "\\begin{equation}\n",
    "|101\\rangle \\equiv |5\\rangle.\n",
    "\\end{equation}\n",
    "Así, nuestra base computacional será traducida a \n",
    "\\begin{align}\n",
    "|000\\rangle \\to |0\\rangle \\\\\n",
    "|001\\rangle \\to |1\\rangle \\\\\n",
    "|010\\rangle \\to |2\\rangle \\\\\n",
    "|011\\rangle \\to |3\\rangle \\\\\n",
    "|100\\rangle \\to |4\\rangle \\\\\n",
    "|101\\rangle \\to |5\\rangle \\\\\n",
    "|110\\rangle \\to |6\\rangle \\\\\n",
    "|111\\rangle \\to |7\\rangle .\n",
    "\\end{align}\n",
    "\n",
    "Luego, por simplicidad, utilizando la base computacional como nuestra base \"canonica\", la sustitución es simple:\n",
    "$|000\\rangle \\to \\left( \\begin{array}{c} 1 \\\\ \\vdots \\\\ 0 \\end{array} \\right)$, $|001\\rangle \\to \\left( \\begin{array}{c} 0 \\\\ 1 \\\\ \\vdots \\end{array} \\right)$, etc.\n",
    "\n",
    "Es decir, la componente que lleva el \"1\" es precisamente la representacion decimal del estado (comenzando a contar desde cero porsupuesto). Sin embargo en julia los vectores se indexan comenzando de 1, por lo que no tenemos la indexacion tan facil. Sumando uno a los indices solucionamos el problema. \n"
   ]
  },
  {
   "cell_type": "markdown",
   "metadata": {},
   "source": [
    "# Operaciones de un qubit"
   ]
  },
  {
   "cell_type": "markdown",
   "metadata": {},
   "source": [
    "Al realizar operaciones de un qubit, no estamos mezclando elementos de cualquier tipo. Noten que si hacemos una operacion sobre un solo qubit, mezclamos solo algunos elementos entre si. \n",
    "\n",
    "Numeremos los qubits de derecha a izquierda, como numeramos los dígitos en notación decimal. Es decir, en \n",
    "\\begin{equation}\n",
    "97834\n",
    "\\end{equation}\n",
    "el digito 0 es el 4, el digito 1 es el 3, el digito 2 es el 8, etc. Esto ademas resulta conveniente pues podemos escribir\n",
    "\\begin{equation}\n",
    "97834=4 \\times 10^0 + \n",
    "3\\times 10^1 +\n",
    "8\\times 10^2 +\n",
    "7\\times 10^3 +\n",
    "9\\times 10^4.\n",
    "\\end{equation}\n",
    "De la misma manera, \n",
    "\\begin{equation}\n",
    "(5)_{10}=(101)_2 \n",
    "=  1\\times 2^0+ 0\\times 2^1+ 1\\times 2^2\n",
    "\\end{equation}\n"
   ]
  },
  {
   "cell_type": "markdown",
   "metadata": {},
   "source": [
    "Ahora veamos que si hacemos una operación sobre el qubit 1, vamos a mezclar los estados por pares. Por ejemplo, al aplicar la operación de un solo qubit $u$ sobre el qubit 2, tendremos \n",
    "\\begin{equation}\n",
    "u_2 |i_3 i_2 i_1 i_0 \\rangle =\n",
    "1_3 \\otimes u_2 \n",
    "\\otimes 1_1 \n",
    "\\otimes 1_0\n",
    "|i_3 i_2 i_1 i_0 \\rangle =\n",
    "|i_3 \\rangle \\otimes  \n",
    "(u |i_2 \\rangle) \\otimes  \n",
    "|i_1 \\rangle \\otimes  \n",
    "|i_0 \\rangle \\otimes =\n",
    "\\alpha |i_3 i_2 i_1 i_0 \\rangle +\n",
    "\\beta |i_3 \\bar i_2 i_1 i_0 \\rangle.\n",
    "\\end{equation}\n",
    "Es decir estamos mezclando solo dos estados. Por ejemplo, cualquier operación de un solo qubit, sobre el qubit 1 va a mezclar \n",
    "\\begin{equation}\n",
    "|101\\rangle \n",
    "\\end{equation}\n",
    "con\n",
    "\\begin{equation}\n",
    "|111\\rangle .\n",
    "\\end{equation}\n",
    "\n",
    "\n"
   ]
  },
  {
   "cell_type": "markdown",
   "metadata": {},
   "source": [
    "Para refrescar la memoria y tener presente (i) la forma en que representamos NOSOTROS y (2) la COMPU los numeros enteros, usamos las funciones \n",
    "~~~\n",
    "bits\n",
    "~~~\n",
    "que nos da la representación binaria de los objetos, y \n",
    "~~~\n",
    "bin\n",
    "~~~\n",
    "que nos da la forma en que un entero es representado en base 2. "
   ]
  },
  {
   "cell_type": "code",
   "execution_count": 1,
   "metadata": {
    "collapsed": false
   },
   "outputs": [
    {
     "name": "stdout",
     "output_type": "stream",
     "text": [
      "(bits(i),bin(i,n),i) = (\"0000000000000000000000000000000000000000000000000000000000000000\",\"0000\",0)\n",
      "(bits(i),bin(i,n),i) = (\"0000000000000000000000000000000000000000000000000000000000000001\",\"0001\",1)\n",
      "(bits(i),bin(i,n),i) = (\"0000000000000000000000000000000000000000000000000000000000000010\",\"0010\",2)\n",
      "(bits(i),bin(i,n),i) = (\"0000000000000000000000000000000000000000000000000000000000000011\",\"0011\",3)\n",
      "(bits(i),bin(i,n),i) = (\"0000000000000000000000000000000000000000000000000000000000000100\",\"0100\",4)\n",
      "(bits(i),bin(i,n),i) = (\"0000000000000000000000000000000000000000000000000000000000000101\",\"0101\",5)\n",
      "(bits(i),bin(i,n),i) = (\"0000000000000000000000000000000000000000000000000000000000000110\",\"0110\",6)\n",
      "(bits(i),bin(i,n),i) = (\"0000000000000000000000000000000000000000000000000000000000000111\",\"0111\",7)\n",
      "(bits(i),bin(i,n),i) = (\"0000000000000000000000000000000000000000000000000000000000001000\",\"1000\",8)\n",
      "(bits(i),bin(i,n),i) = (\"0000000000000000000000000000000000000000000000000000000000001001\",\"1001\",9)\n",
      "(bits(i),bin(i,n),i) = (\"0000000000000000000000000000000000000000000000000000000000001010\",\"1010\",10)\n",
      "(bits(i),bin(i,n),i) = (\"0000000000000000000000000000000000000000000000000000000000001011\",\"1011\",11)\n",
      "(bits(i),bin(i,n),i) = (\"0000000000000000000000000000000000000000000000000000000000001100\",\"1100\",12)\n",
      "(bits(i),bin(i,n),i) = (\"0000000000000000000000000000000000000000000000000000000000001101\",\"1101\",13)\n",
      "(bits(i),bin(i,n),i) = (\"0000000000000000000000000000000000000000000000000000000000001110\",\"1110\",14)\n",
      "(bits(i),bin(i,n),i) = (\"0000000000000000000000000000000000000000000000000000000000001111\",\"1111\",15)\n"
     ]
    }
   ],
   "source": [
    "n=4;\n",
    "for i = 0:2^n-1\n",
    "    @show bits(i),bin(i,n),i\n",
    "end"
   ]
  },
  {
   "cell_type": "markdown",
   "metadata": {},
   "source": [
    "Vamos a construir la rutina para aplicar una operación de un qubit a un estado codificado como se explicó arriba. Consideraremos un estado de $n$ qubits. Este estado tendrá una longitud de $2^n$. Para extraer el número de qubits y evitar meterlo explicitamente en la rutina (redundancia en programación es una muy mala práctica) usamos la función "
   ]
  },
  {
   "cell_type": "code",
   "execution_count": 2,
   "metadata": {
    "collapsed": false
   },
   "outputs": [
    {
     "name": "stdout",
     "output_type": "stream",
     "text": [
      "search: trailing_zeros\n",
      "\n"
     ]
    },
    {
     "data": {
      "text/markdown": [
       "```\n",
       "trailing_zeros(x::Integer) -> Integer\n",
       "```\n",
       "\n",
       "Number of zeros trailing the binary representation of `x`.\n",
       "\n",
       "```jldoctest\n",
       "julia> trailing_zeros(2)\n",
       "1\n",
       "```\n"
      ],
      "text/plain": [
       "```\n",
       "trailing_zeros(x::Integer) -> Integer\n",
       "```\n",
       "\n",
       "Number of zeros trailing the binary representation of `x`.\n",
       "\n",
       "```jldoctest\n",
       "julia> trailing_zeros(2)\n",
       "1\n",
       "```\n"
      ]
     },
     "execution_count": 2,
     "metadata": {},
     "output_type": "execute_result"
    }
   ],
   "source": [
    "?trailing_zeros"
   ]
  },
  {
   "cell_type": "markdown",
   "metadata": {},
   "source": [
    "Esta función me dá el numero de zeros a la derecha del ultimo 1:"
   ]
  },
  {
   "cell_type": "code",
   "execution_count": 3,
   "metadata": {
    "collapsed": false
   },
   "outputs": [
    {
     "name": "stdout",
     "output_type": "stream",
     "text": [
      "(bin(i,n),trailing_zeros(i)) = (\"000\",64)\n",
      "(bin(i,n),trailing_zeros(i)) = (\"001\",0)\n",
      "(bin(i,n),trailing_zeros(i)) = (\"010\",1)\n",
      "(bin(i,n),trailing_zeros(i)) = (\"011\",0)\n",
      "(bin(i,n),trailing_zeros(i)) = (\"100\",2)\n",
      "(bin(i,n),trailing_zeros(i)) = (\"101\",0)\n",
      "(bin(i,n),trailing_zeros(i)) = (\"110\",1)\n",
      "(bin(i,n),trailing_zeros(i)) = (\"111\",0)\n"
     ]
    }
   ],
   "source": [
    "n=3;\n",
    "for i = 0:2^n-1\n",
    "    @show bin(i,n),trailing_zeros(i)\n",
    "end"
   ]
  },
  {
   "cell_type": "markdown",
   "metadata": {},
   "source": [
    "Si el número es una potencia de 2, nos da el valor del logaritmo en base 2, de la misma manera que contar el numero de ceros en el numero 1000 nos dice que el logaritmo, en base 10, de 1000 es 3. "
   ]
  },
  {
   "cell_type": "markdown",
   "metadata": {},
   "source": [
    "El siguiente paso es ver que tendremos unos qubits a la izquierda del qubit afectado y otros a la derecha. En el caso de 5 qubits, supongamos que vamos a operar sobre el qubit 2 (el de la mitad). \n",
    "\n",
    "Mejor les explico en vivo y en directo. "
   ]
  },
  {
   "cell_type": "code",
   "execution_count": 11,
   "metadata": {
    "collapsed": false
   },
   "outputs": [
    {
     "data": {
      "text/plain": [
       "apply_unitary! (generic function with 1 method)"
      ]
     },
     "execution_count": 11,
     "metadata": {},
     "output_type": "execute_result"
    }
   ],
   "source": [
    "\"\"\"\n",
    "    apply_unitary!(psi, u, target_qubit)\n",
    "\n",
    "This function applies efficiently an arbitrary unitary \"u\" to the target qubit, and modifies the state psi. \n",
    "\n",
    "\"\"\"\n",
    "function apply_unitary!(psi, u, target_qubit)\n",
    "    number_of_qubits = trailing_zeros(length(psi))\n",
    "    end_outer_counter = 2^(number_of_qubits-target_qubit-1)-1\n",
    "    for counter_left_bits = 0:end_outer_counter\n",
    "        number_left=counter_left_bits<< (target_qubit+1)\n",
    "        end_right_counter = number_left + (1<<target_qubit)-1\n",
    "        for counter_right_bits = number_left:end_right_counter\n",
    "            counter_right_bits_1 = counter_right_bits + (1<<target_qubit)\n",
    "            psi[counter_right_bits+1], psi[counter_right_bits_1+1]=u*[psi[counter_right_bits+1], psi[counter_right_bits_1+1]]\n",
    "        end\n",
    "    end\n",
    "end\n",
    "\n"
   ]
  },
  {
   "cell_type": "code",
   "execution_count": 12,
   "metadata": {
    "collapsed": false
   },
   "outputs": [
    {
     "name": "stdout",
     "output_type": "stream",
     "text": [
      "error = 7.052938409334528e-16\n"
     ]
    }
   ],
   "source": [
    "n=12;\n",
    "error=0.\n",
    "u=expm(im*(x->x+x')(randn(2,2)+im*randn(2,2)))\n",
    "\n",
    "for target_qubit=0:n-1\n",
    "    psi=random_state(2^n);\n",
    "    psi_out_2=psi;\n",
    "    psi_out_1=kron(eye(2^(n-target_qubit-1)),u,eye(2^target_qubit))*psi\n",
    "    apply_unitary!(psi_out_2, u, target_qubit)\n",
    "    error+=norm(psi_out_1-psi_out_2)\n",
    "end\n",
    "@show error;"
   ]
  },
  {
   "cell_type": "code",
   "execution_count": 14,
   "metadata": {
    "collapsed": false
   },
   "outputs": [
    {
     "name": "stdout",
     "output_type": "stream",
     "text": [
      "  4.096497 seconds (15 allocations: 4.002 GB, 0.09% gc time)\n",
      "  0.001315 seconds (40.96 k allocations: 2.125 MB)\n"
     ]
    }
   ],
   "source": [
    "n=14;\n",
    "u=expm(im*(x->x+x')(randn(2,2)+im*randn(2,2)))\n",
    "psi=random_state(2^n);\n",
    "target_qubit=rand(0:n-1)\n",
    "\n",
    "@time kron(eye(2^(n-target_qubit-1)),u,eye(2^target_qubit))*psi\n",
    "@time apply_unitary!(psi, u, target_qubit)"
   ]
  },
  {
   "cell_type": "code",
   "execution_count": 15,
   "metadata": {
    "collapsed": false,
    "scrolled": true
   },
   "outputs": [
    {
     "data": {
      "text/plain": [
       "apply_kick! (generic function with 1 method)"
      ]
     },
     "execution_count": 15,
     "metadata": {},
     "output_type": "execute_result"
    }
   ],
   "source": [
    "# Esto se basara en la formula 3.2.44 del Sakurai\n",
    "function apply_kick!(psi, b, target_qubit)\n",
    "    phi=norm(b)\n",
    "    b_normalized=b/phi\n",
    "    sigma_n=sigmas[1]*b_normalized[1]+sigmas[2]*b_normalized[2]+sigmas[3]*b_normalized[3]\n",
    "    u=eye(2)*cos(phi)-im*sigma_n*sin(phi)\n",
    "    apply_unitary!(psi, u, target_qubit)\n",
    "end "
   ]
  },
  {
   "cell_type": "code",
   "execution_count": 16,
   "metadata": {
    "collapsed": false
   },
   "outputs": [
    {
     "data": {
      "text/plain": [
       "testbit (generic function with 1 method)"
      ]
     },
     "execution_count": 16,
     "metadata": {},
     "output_type": "execute_result"
    }
   ],
   "source": [
    "\"\"\"\n",
    "Esta funcion revisa si el bit bit-esimo de n esta o no prendido. \n",
    "\"\"\"\n",
    "function testbit(n, bit)\n",
    "    ~(n&(1<<bit)==0)\n",
    "end "
   ]
  },
  {
   "cell_type": "code",
   "execution_count": 17,
   "metadata": {
    "collapsed": false
   },
   "outputs": [
    {
     "name": "stdout",
     "output_type": "stream",
     "text": [
      "y = Any[\"0000\",false,false,false,false,false,0]\n",
      "y = Any[\"0001\",false,false,false,false,true,1]\n",
      "y = Any[\"0010\",false,false,false,true,false,2]\n",
      "y = Any[\"0011\",false,false,false,true,true,3]\n",
      "y = Any[\"0100\",false,false,true,false,false,4]\n",
      "y = Any[\"0101\",false,false,true,false,true,5]\n",
      "y = Any[\"0110\",false,false,true,true,false,6]\n",
      "y = Any[\"0111\",false,false,true,true,true,7]\n",
      "y = Any[\"1000\",false,true,false,false,false,8]\n",
      "y = Any[\"1001\",false,true,false,false,true,9]\n",
      "y = Any[\"1010\",false,true,false,true,false,10]\n",
      "y = Any[\"1011\",false,true,false,true,true,11]\n",
      "y = Any[\"1100\",false,true,true,false,false,12]\n",
      "y = Any[\"1101\",false,true,true,false,true,13]\n",
      "y = Any[\"1110\",false,true,true,true,false,14]\n",
      "y = Any[\"1111\",false,true,true,true,true,15]\n"
     ]
    }
   ],
   "source": [
    "n=4;\n",
    "2^4\n",
    "for i = 0:2^n-1\n",
    "    y= [bin(i,n),testbit(i, 4),testbit(i, 3),testbit(i, 2),testbit(i, 1),testbit(i, 0),i]\n",
    "    @show y\n",
    "end"
   ]
  },
  {
   "cell_type": "code",
   "execution_count": 19,
   "metadata": {
    "collapsed": false
   },
   "outputs": [],
   "source": [
    "# Ising:\n",
    "J=1.\n",
    "expJ=exp(im*J)\n",
    "expJc=conj(expJ)\n",
    "\n",
    "number_of_qubits=6;\n",
    "target_qubit_1=2;\n",
    "target_qubit_2=3;\n",
    "psi=random_state(2^number_of_qubits)\n",
    "\n",
    "for i = 0: (1<<number_of_qubits)-1\n",
    "    if testbit(i,target_qubit_1) $ testbit(i,target_qubit_2)\n",
    "        psi[i+1]*=expJc\n",
    "    else\n",
    "        psi[i+1]*=expJ\n",
    "    end\n",
    "end"
   ]
  },
  {
   "cell_type": "code",
   "execution_count": 230,
   "metadata": {
    "collapsed": false
   },
   "outputs": [
    {
     "data": {
      "text/plain": [
       "apply_ising! (generic function with 1 method)"
      ]
     },
     "execution_count": 230,
     "metadata": {},
     "output_type": "execute_result"
    }
   ],
   "source": [
    "function apply_ising!(psi, J, target_qubit_1, target_qubit_2)\n",
    "    expJ=exp(im*J)\n",
    "    expJc=conj(expJ)\n",
    "    for i = 0: length(psi)-1\n",
    "        if testbit(i,target_qubit_1) $ testbit(i,target_qubit_2)\n",
    "            psi[i+1]*=expJc\n",
    "        else\n",
    "            psi[i+1]*=expJ\n",
    "        end\n",
    "    end\n",
    "end "
   ]
  },
  {
   "cell_type": "code",
   "execution_count": 21,
   "metadata": {
    "collapsed": false
   },
   "outputs": [
    {
     "data": {
      "text/plain": [
       "2x2 Array{Complex{Float64},2}:\n",
       " 0.155944-0.0im       -0.698456-0.698456im\n",
       " 0.698456-0.698456im   0.155944-0.0im     "
      ]
     },
     "execution_count": 21,
     "metadata": {},
     "output_type": "execute_result"
    }
   ],
   "source": [
    "b=[ 1. 1. 0.]\n",
    "phi=norm(b)\n",
    "b_normalized=b/phi\n",
    "sigma_n=sigmas[1]*b_normalized[1]+sigmas[2]*b_normalized[2]+sigmas[3]*b_normalized[3]\n",
    "\n",
    "u=eye(2)*cos(phi)-im*sigma_n*sin(phi)"
   ]
  },
  {
   "cell_type": "markdown",
   "metadata": {},
   "source": [
    "* Notacion binaria: Para definir estados de qubits, que por hende tienen dimencion $2^N$, donde $N$ es el numero de qubits, es útil usar notación binaria:\n",
    "\n",
    "Supongamos que tenemos 3 qubits, entonces una base para el espacio de Hilbert puede ser $|\\alpha_1\\alpha_2\\alpha_3\\rangle$, donde $\\alpha_i\\in\\lbrace 0,1 \\rbrace$. Entonces, por ejemplo, el estado $|000\\rangle$ es representado por el numero \"000\" en binario, que en decimal es simplemente \"0\". Y para los demas tenemos algo asi:\n",
    "$001 \\to 1$, $010 \\to 2$, $111 \\to 7$.. etc.\n",
    "\n",
    "* Luego, por simplicidad, utilizando la base computacional como nuestra base \"canonica\", la sustitución es simple:\n",
    "$|000\\rangle \\to \\left( \\begin{array}{c} 1 \\\\ \\vdots \\\\ 0 \\end{array} \\right)$, $|001\\rangle \\to \\left( \\begin{array}{c} 0 \\\\ 1 \\\\ \\vdots \\end{array} \\right)$, etc.\n",
    "\n",
    "Es decir, la componente que lleva el \"1\" es precisamente la representacion decimal del estado (comenzando a contar desde cero porsupuesto). Sin embargo en julia los vectores se indexan comenzando de 1, por lo que no tenemos la indexacion tan facil. Sin embargo, podemos conservarla y definir la componente $0 \\to N$. Con esta sustitución, todas las componentes se quedan como estan a excepción del cero. Entonces:\n",
    "\n",
    "$|000\\rangle \\to \\left( \\begin{array}{c} 0 \\\\ \\vdots \\\\ 1 \\end{array} \\right)$ y $|001\\rangle \\to \\left( \\begin{array}{c} 1 \\\\ 0 \\\\ \\vdots \\end{array} \\right)$, etc.\n"
   ]
  },
  {
   "cell_type": "markdown",
   "metadata": {},
   "source": [
    "Incluir el @time"
   ]
  },
  {
   "cell_type": "markdown",
   "metadata": {},
   "source": [
    "# Probar que los elementos basicos coinciden con lo que tengo programado en c++"
   ]
  },
  {
   "cell_type": "code",
   "execution_count": 148,
   "metadata": {
    "collapsed": false
   },
   "outputs": [],
   "source": [
    "n=4;\n",
    "psi=random_state(2^n);\n",
    "# Escritura, usao de map, real e imag\n",
    "writedlm(\"/tmp/estado.dat\",map(x ->string(real(x),\" \", imag(x)), psi))"
   ]
  },
  {
   "cell_type": "code",
   "execution_count": 149,
   "metadata": {
    "collapsed": false
   },
   "outputs": [],
   "source": [
    "psi_out_julia=psi;\n",
    "kick=[1. 1.2 1.3];\n",
    "target_qubit=1\n",
    "apply_kick!(psi_out_julia, kick, target_qubit);"
   ]
  },
  {
   "cell_type": "code",
   "execution_count": 153,
   "metadata": {
    "collapsed": false
   },
   "outputs": [],
   "source": [
    "command=`/home/carlosp/investigacion/libs/cpp/test_spins -o test_kick_single_spin -q $n --position $target_qubit --bx $(kick[1]) --by $(kick[2]) --bz $(kick[3])`\n",
    "run(pipeline(command, stdout=\"/tmp/estado_final.dat\"))"
   ]
  },
  {
   "cell_type": "code",
   "execution_count": 154,
   "metadata": {
    "collapsed": false,
    "scrolled": true
   },
   "outputs": [],
   "source": [
    "b=readdlm(\"/tmp/estado_final.dat\", ' ', '\\n');\n",
    "psi_out_cpp=[Complex{Float64}((x->x[1]+im*x[2])(b[i,:])) for i in 1:2^n];"
   ]
  },
  {
   "cell_type": "code",
   "execution_count": 155,
   "metadata": {
    "collapsed": false
   },
   "outputs": [
    {
     "data": {
      "text/plain": [
       "1.5226151774055545e-16"
      ]
     },
     "execution_count": 155,
     "metadata": {},
     "output_type": "execute_result"
    }
   ],
   "source": [
    "norm(psi_out_julia-psi_out_cpp)"
   ]
  },
  {
   "cell_type": "code",
   "execution_count": 158,
   "metadata": {
    "collapsed": false
   },
   "outputs": [
    {
     "data": {
      "text/plain": [
       "compare_kicks (generic function with 1 method)"
      ]
     },
     "execution_count": 158,
     "metadata": {},
     "output_type": "execute_result"
    }
   ],
   "source": [
    "function compare_kicks(psi, kick, target_qubit)\n",
    "    writedlm(\"/tmp/estado.dat\",map(x ->string(real(x),\" \", imag(x)), psi))\n",
    "    psi_out_julia=psi;\n",
    "    apply_kick!(psi_out_julia, kick, target_qubit);\n",
    "    command=`/home/carlosp/investigacion/libs/cpp/test_spins -o test_kick_single_spin -q $n --position $target_qubit --bx $(kick[1]) --by $(kick[2]) --bz $(kick[3])`\n",
    "    run(pipeline(command, stdout=\"/tmp/estado_final.dat\"))\n",
    "    b=readdlm(\"/tmp/estado_final.dat\", ' ', '\\n');\n",
    "    psi_out_cpp=[Complex{Float64}((x->x[1]+im*x[2])(b[i,:])) for i in 1:2^n];\n",
    "    norm(psi_out_julia-psi_out_cpp)\n",
    "end"
   ]
  },
  {
   "cell_type": "code",
   "execution_count": 167,
   "metadata": {
    "collapsed": false
   },
   "outputs": [
    {
     "data": {
      "text/plain": [
       "2.1039339845264223e-15"
      ]
     },
     "execution_count": 167,
     "metadata": {},
     "output_type": "execute_result"
    }
   ],
   "source": [
    "n=14;\n",
    "psi=random_state(2^n);\n",
    "error=0\n",
    "kick=2*π*rand(3)\n",
    "for target_qubit=0:n-1\n",
    "    error+=compare_kicks(psi, kick, target_qubit)\n",
    "end\n",
    "error"
   ]
  },
  {
   "cell_type": "code",
   "execution_count": 277,
   "metadata": {
    "collapsed": false
   },
   "outputs": [],
   "source": [
    "n=6;\n",
    "psia=random_state(2^n);\n",
    "psit=Complex{Float64}[1, 0, 0 , 0]'';\n",
    "psi=psia;\n",
    "# Escritura, usao de map, real e imag\n",
    "writedlm(\"/tmp/estado.dat\",map(x ->string(real(x),\" \", imag(x)), psi))"
   ]
  },
  {
   "cell_type": "code",
   "execution_count": 278,
   "metadata": {
    "collapsed": false
   },
   "outputs": [],
   "source": [
    "psi_out_julia=psi;\n",
    "J=.1;\n",
    "target_qubit_1=0\n",
    "target_qubit_2=1\n",
    "#apply_ising!(psi_out_julia, J, target_qubit_1, target_qubit_2);\n"
   ]
  },
  {
   "cell_type": "code",
   "execution_count": 279,
   "metadata": {
    "collapsed": false
   },
   "outputs": [],
   "source": [
    "    command=`/home/carlosp/investigacion/libs/cpp/test_spins -o test_ising_single -q $n --position $target_qubit_1 --position2 $target_qubit_2 --ising_z $J`\n",
    "    run(pipeline(command, stdout=\"/tmp/estado_final.dat\"))\n",
    "    b=readdlm(\"/tmp/estado_final.dat\", ' ', '\\n');\n",
    "    psi_out_cpp=[Complex{Float64}((x->x[1]+im*x[2])(b[i,:])) for i in 1:2^n];"
   ]
  },
  {
   "cell_type": "code",
   "execution_count": 283,
   "metadata": {
    "collapsed": false
   },
   "outputs": [],
   "source": [
    "# @show psi_out_cpp;\n",
    "#@show psi_out_julia;\n"
   ]
  },
  {
   "cell_type": "code",
   "execution_count": 284,
   "metadata": {
    "collapsed": false
   },
   "outputs": [],
   "source": [
    "function apply_ising!(psi, J, target_qubit_1, target_qubit_2)\n",
    "    expJ=exp(-im*J)\n",
    "    expJc=conj(expJ)\n",
    "    for i = 0: length(psi)-1\n",
    "        if testbit(i,target_qubit_1) $ testbit(i,target_qubit_2)\n",
    "            psi[i+1]*=expJc\n",
    "        else\n",
    "            psi[i+1]*=expJ\n",
    "        end\n",
    "    end\n",
    "end \n",
    "apply_ising!(psi, J, target_qubit_1, target_qubit_2);\n"
   ]
  },
  {
   "cell_type": "code",
   "execution_count": 285,
   "metadata": {
    "collapsed": false
   },
   "outputs": [
    {
     "data": {
      "text/plain": [
       "compare_ising (generic function with 1 method)"
      ]
     },
     "execution_count": 285,
     "metadata": {},
     "output_type": "execute_result"
    }
   ],
   "source": [
    "function compare_ising(psi,  J, target_qubit_1, target_qubit_2)\n",
    "    writedlm(\"/tmp/estado.dat\",map(x ->string(real(x),\" \", imag(x)), psi))\n",
    "    command=`/home/carlosp/investigacion/libs/cpp/test_spins -o test_ising_single -q $n --position $target_qubit_1 --position2 $target_qubit_2 --ising_z $J`\n",
    "    run(pipeline(command, stdout=\"/tmp/estado_final.dat\"))\n",
    "    b=readdlm(\"/tmp/estado_final.dat\", ' ', '\\n');\n",
    "    psi_out_cpp=[Complex{Float64}((x->x[1]+im*x[2])(b[i,:])) for i in 1:2^n];\n",
    "    psi_out_julia=psi;\n",
    "    apply_ising!(psi_out_julia, J, target_qubit_1, target_qubit_2);\n",
    "    norm(psi_out_cpp-psi_out_julia)\n",
    "end"
   ]
  },
  {
   "cell_type": "code",
   "execution_count": 286,
   "metadata": {
    "collapsed": false
   },
   "outputs": [
    {
     "data": {
      "text/plain": [
       "1.7946006531794395e-16"
      ]
     },
     "execution_count": 286,
     "metadata": {},
     "output_type": "execute_result"
    }
   ],
   "source": [
    "compare_ising(psi,  J, target_qubit_1, target_qubit_2)"
   ]
  },
  {
   "cell_type": "markdown",
   "metadata": {
    "collapsed": true
   },
   "source": [
    "# Cosas por hacer, quiza proyectos finales\n",
    "\n",
    "* Benchmarking con otros sistemas, en términos de velocidad y memoria, con respecto a fotran, c++ y CUDA."
   ]
  },
  {
   "cell_type": "code",
   "execution_count": null,
   "metadata": {
    "collapsed": true
   },
   "outputs": [],
   "source": []
  }
 ],
 "metadata": {
  "kernelspec": {
   "display_name": "Julia 0.4.6",
   "language": "julia",
   "name": "julia-0.4"
  },
  "language_info": {
   "file_extension": ".jl",
   "mimetype": "application/julia",
   "name": "julia",
   "version": "0.4.6"
  }
 },
 "nbformat": 4,
 "nbformat_minor": 0
}
