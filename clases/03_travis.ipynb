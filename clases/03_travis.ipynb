{
 "cells": [
  {
   "cell_type": "markdown",
   "metadata": {},
   "source": [
    "### Clase"
   ]
  },
  {
   "cell_type": "markdown",
   "metadata": {},
   "source": [
    "#### ¿Por qué aprender Travis CI?"
   ]
  },
  {
   "cell_type": "markdown",
   "metadata": {},
   "source": [
    "Travis CI nos permite asegurarnos que nuestro código siempre este funcionando."
   ]
  },
  {
   "cell_type": "markdown",
   "metadata": {},
   "source": [
    "Una matriz **estocástica** es una matriz tal que la **suma** de cada una de sus **columnas** es igual a uno.\n",
    "\n",
    "## Creo que tambien tiene que tener elementos positivos.  \n",
    "## Quiza separar en secciones"
   ]
  },
  {
   "cell_type": "markdown",
   "metadata": {},
   "source": [
    "#### Ejercicio 1.1\n",
    "\n",
    "Crear una matriz *estocástica* utilizando las funciones `randn(1:n)` y `zeros`."
   ]
  },
  {
   "cell_type": "markdown",
   "metadata": {},
   "source": [
    "#### Ejercicio 1.2\n",
    "\n",
    "Crear un archivo `estocas.jl` en el que guarden la función que utilizaron."
   ]
  },
  {
   "cell_type": "markdown",
   "metadata": {},
   "source": [
    "#### Ejercicio 1.3\n",
    "\n",
    "Hacer un `commit` con este archivo."
   ]
  },
  {
   "cell_type": "markdown",
   "metadata": {},
   "source": [
    "#### Ejercicio 2.1\n",
    "\n",
    "Programar una función que reciba una matriz y devuelva `true` si es estocástica y `false` de lo contrario."
   ]
  },
  {
   "cell_type": "markdown",
   "metadata": {},
   "source": [
    "#### Ejercicio 2.2\n",
    "\n",
    "Programar una función que reciba una matriz y devuelva `true` si es estocástica y `false` de lo contrario. Añadir esta función a al archivo `estocas.jl`."
   ]
  },
  {
   "cell_type": "markdown",
   "metadata": {},
   "source": [
    "#### Ejercicio 3.1"
   ]
  },
  {
   "cell_type": "markdown",
   "metadata": {},
   "source": [
    "Crear el archivo `.travis.yml` con el siguiente contenido\n",
    "\n",
    "```ỳml\n",
    "language: julia\n",
    "julia:\n",
    "  - 0.4.6\n",
    "script: julia estocas.jl\n",
    "```"
   ]
  },
  {
   "cell_type": "markdown",
   "metadata": {},
   "source": [
    "hacer un `commit` con estos archivos."
   ]
  },
  {
   "cell_type": "markdown",
   "metadata": {},
   "source": [
    "Vincular su cuenta de GitHub con la de Travis. Para hacer esto accedan a [TravisCI.org](travis-ci.org) buscan la parte que diga algo como **acceder usando cuenta de GitHub**. En esa parte les van a pedir su usuario y contraseña de GitHub, rellenan esos campos y entraran a un menú de Travis.\n",
    "\n",
    "![Menú principal de Travis CI](http://i.imgur.com/oPD3VE6.png)"
   ]
  },
  {
   "cell_type": "markdown",
   "metadata": {},
   "source": [
    "Darán click en el signo **+** que aparece junto a *My Repositories* y activarán el repositorio que crearon para esta *notebook*. **Nota** si se tarda mucho o les dice que no ha podido encontrar un repositorio **recarguen** la página."
   ]
  },
  {
   "cell_type": "markdown",
   "metadata": {},
   "source": [
    "Una vez que hayan activado su repositorio en Travis, les aparecerá una imagen con unos conos diciéndoles que aún no hay pruebas. Para **activar** una prueba en Travis necesitarán hacer un **`git push`**. Para hacer esto agreguen un comentario en su código, añadan un nuevo commit y envíenlo a GitHub con `git push`."
   ]
  },
  {
   "cell_type": "markdown",
   "metadata": {},
   "source": [
    "Al hacer este último `git push` en la página en la pestaña del menú principal *Build History* debería aparecer una entrada en amarillo (como la que aparece en el pantallazo de arriba pero lo verde en amarillo). Esto significa que una prueba está siendo llevada a cabo. Si tiene **éxito** se pondrá **verder** pero si falla se pondrá **roja**."
   ]
  },
  {
   "cell_type": "markdown",
   "metadata": {},
   "source": [
    "La parte que más nos debería de interesar del archivo `.travis.yml` es la que dice `script: julia estocas.jl` ya que Travis ejecutará lo que sea que se encuentre después de los dos puntos que están al terminar la palabra `script`."
   ]
  },
  {
   "cell_type": "markdown",
   "metadata": {},
   "source": [
    "#### Ejercicio 4.1\n",
    "\n",
    "Provocar un resultado **positivo** y otro **negativo** en Travis utilizando su librería."
   ]
  },
  {
   "cell_type": "markdown",
   "metadata": {},
   "source": [
    "#### Ejercicio 5.1\n",
    "\n",
    "Utilizando las funciones `randn`, `Diagonal` y `triu`, crear una función `genHermit` que genere una matriz aleatoria hermitiana."
   ]
  },
  {
   "cell_type": "markdown",
   "metadata": {},
   "source": [
    "##### Tarea moral 1.1\n",
    "\n",
    "Programar la matriz aleatoria utilizando menos `randn` de los que debieron utilizar en el **Ejercicio 5.1**"
   ]
  },
  {
   "cell_type": "markdown",
   "metadata": {},
   "source": [
    "#### Ejercicio 5.2\n",
    "\n",
    "Utilizar la función `ishermitian` para verificar que su matriz es hermitiana."
   ]
  },
  {
   "cell_type": "markdown",
   "metadata": {},
   "source": [
    "#### Ejercicio 5.3\n",
    "\n",
    "Utilizando la función `eigvals` calcular los eigenvalores de la matriz hermitiana que crea su programa."
   ]
  },
  {
   "cell_type": "markdown",
   "metadata": {},
   "source": [
    "#### Ejercicio 5.4\n",
    "\n",
    "\n",
    "Dada una matriz hermitiana $h$ de $n\\times n$ con eigenvalores ordenados de menor a mayor $e(h)_1\\leq e(h)_2 \\leq \\ldots\\leq e(h)_n$, obtener el conjunto $|e(h)_1-e(h)_2|, |e(h)_2-e(h)_3|, \\ldots, |e(h)_{n-1}-e(h)_n|$."
   ]
  },
  {
   "cell_type": "markdown",
   "metadata": {},
   "source": [
    "### Tarea"
   ]
  },
  {
   "cell_type": "markdown",
   "metadata": {},
   "source": [
    "#### Tarea 1.1\n",
    "\n",
    "Crear una función `ensamble` que reciba un número natural positivo $n$ grande que genere $n$ matrices hermitianas aleatorias, calcule el conjunto de diferencias entre eigenvalores mencionado en la celda anterior para cada una y que devuelva todas ellas."
   ]
  },
  {
   "cell_type": "markdown",
   "metadata": {},
   "source": [
    "#### Tarea 1.2\n",
    "\n",
    "Investigar [aquí](https://gist.github.com/gizmaa/7214002) o [aquí](http://nbviewer.jupyter.org/github/dpsanders/fisica_computacional/blob/master/graficas_complejas.ipynb) cómo hacer un **histograma** para hacer uno con la salida de su función creada en el inciso anterior de la tarea. \n",
    "\n",
    "Revisar el segundo elemento de la bibliografía."
   ]
  },
  {
   "cell_type": "markdown",
   "metadata": {},
   "source": [
    "#### Tarea 2.1\n",
    "\n",
    "Pensar en cómo generar la *envolvente convexa* (convex hull) de un conjunto de puntos en el plano.\n",
    "\n",
    "Un ejemplo visual es el siguiente conjunto de puntos ![Conjunto de puntos](http://i.imgur.com/ERL1Om0.png)\n",
    "\n",
    "Envolvente convexa:\n",
    "![Envolvente convexa](http://i.imgur.com/VEW06gW.png)\n",
    "\n",
    "Revisar el primer libro de la bibilografía."
   ]
  },
  {
   "cell_type": "markdown",
   "metadata": {},
   "source": [
    "### Bibilografía \n",
    "\n",
    "1. Geometry of Quantum States, *Ingemar Bengtsson y Karol Zyczkowski, J*\n",
    "2. The Transition to Chaos: Conservative Classical Systems and Quantum Manifestations, *Linda Reichl*"
   ]
  },
  {
   "cell_type": "markdown",
   "metadata": {},
   "source": [
    "# Por hacer en la siguiente iteracion\n",
    "\n",
    "Se puede ampliar la justificacion. Es decir, no solo es verificar qeu neustro codigo funciona, sino que funciona correctamente. Que al hacer cambios, podamos verificar TODO de manera eficiente. Igualmente, cuando uno trabaja en equipos, es un sello de garantía de que lo que hizo el otro esta funcionando y se puede compilar. Esto es importante para el trabajo en equipo y para cuando uno esta mejorando codigo que otra persona hizo. \n",
    "\n",
    "Tratar de pensar en un ejemplo, quiza de la vida real, en lo que esto sea util. Tambien le da una idea concreta a la gente de como poner a funcionar la cosa en su propia computadora. \n",
    "\n",
    "Explicar en este mismo archivo cual es el formato de los archivos \n",
    "\n",
    "`.yml`\n",
    "\n"
   ]
  }
 ],
 "metadata": {
  "kernelspec": {
   "display_name": "Julia 0.4.6",
   "language": "julia",
   "name": "julia-0.4"
  },
  "language_info": {
   "file_extension": ".jl",
   "mimetype": "application/julia",
   "name": "julia",
   "version": "0.4.6"
  }
 },
 "nbformat": 4,
 "nbformat_minor": 0
}
