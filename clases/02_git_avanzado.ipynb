{
 "cells": [
  {
   "cell_type": "markdown",
   "metadata": {},
   "source": [
    "# 1. Trabajo colaborativo"
   ]
  },
  {
   "cell_type": "markdown",
   "metadata": {},
   "source": [
    "El flujo de trabajo que hasta ahora hemos visto es:\n",
    "\n",
    "```\n",
    "    > git init                  # inicializa un repositorio\n",
    "    > git add <archivo>         # da a conocer a git un archivo nuevo o un cambio en un archivo\n",
    "    > git status                # resume los cambios actuales\n",
    "    > git commit -m \"mensaje\"   # saca una foto instantánea del estado actual del proyecto \n",
    "    > git log                   # muestra la bitácora del proyecto\n",
    "\n",
    "```\n",
    "Otro comando que quizá usaron en la tarea fueron:\n",
    "```\n",
    "    > git push                  # sube los cambios a un repositorio central (local o remoto)\n",
    "```\n",
    "\n",
    "(Por ahora \">\" indicará la línea de comandos.)"
   ]
  },
  {
   "cell_type": "markdown",
   "metadata": {},
   "source": [
    "Ahora veremos un modelo posible de *colaboración*, que iremos complicando poco a poco."
   ]
  },
  {
   "cell_type": "markdown",
   "metadata": {},
   "source": [
    "Para empezar, la instrucción que sirve para hacer una *copia local* de un repositorio remoto es:\n",
    "\n",
    "    > mkdir -f ~/Desktop; cd ~/Desktop/\n",
    "    > git clone https://github.com/carlospgmat03/2017-1_TS_Pineda\n",
    "\n",
    "En la instrucción de arriba, hemos considerado un proyecto remoto que está en GitHub, por ejemplo. Sin embargo, el comando puede usar en otras situaciones, por ejemplo, un proyecto remoto en una máquina a la que tenemos acceso con `ssh`, o `git`, o un proyecto en *otro* directorio.\n",
    "```\n",
    "    > cd /tmp\n",
    "    > git clone ~/Desktop/2017-1_TS_Pineda\n",
    "```\n",
    "\n",
    "Entre otras cosas que quedan configuradas cuando uno hace la clonación de un proyecto, es *dónde* se encuentra el proyecto original (`origin`). Para verificar esto usamos:\n",
    "```\n",
    "    > cd ~/Desktop/2017-1_TS_Pineda\n",
    "    > git remote -v\n",
    "    > cat .git/config\n",
    "    > cd /tmp/2017-1_TS_Pineda\n",
    "    > git remote -v\n",
    "    > cat .git/config\n",
    "```"
   ]
  },
  {
   "cell_type": "markdown",
   "metadata": {},
   "source": [
    "La situación que consideraremos es la siguiente: Alicia (*Alice*) y Beto (*Bob*) colaboran en un proyecto (el que acabamos de clonar). Ambos tienen la misma versión del código. \n",
    "\n",
    "**Alicia:**\n",
    "Alicia edita el archivo `archivo.txt`, y hace algún cambio que le parece conveniente. Siguiendo el esquema de trabajo que describimos arriba, Alicia sube los cambios a su repositorio local con `git add` y `git commit`, y finalmente los sube al repositorio central: `git push`.\n",
    "\n",
    "**Beto:**\n",
    "Beto, por su parte y de manera independiente, hace cambios *al mismo archivo* en que trabajó Alicia. De la misma manera que lo hizo Alicia, Beto actualiza su repositorio local (`git add` y `git commit`) y los sube al repositorio que comparten con `git push`.\n",
    "\n",
    "*Sin embargo*, como él editó el mismo archivo en el que Alicia hizo cambios, pero usando una versión atrasada que *no* incluye los cambios de Alicia, entonces `git` detecta que hubo cambios divergentes entre la versión local de Beto, en la *rama* `master`, y la del repositorio remoto `origin/master`. Esto hace que `git` no permita subir los cambios que propone Beto, hasta que Beto resuelva los *conflictos* que hayan surgido."
   ]
  },
  {
   "cell_type": "markdown",
   "metadata": {},
   "source": [
    "## Enviando los commits a otro repositorio\n",
    "\n",
    "Vamos a tratar de producir una situación controlada en la que tengamos dicha\n",
    "situación. \n",
    "\n",
    "Para esto vamos a crear un repositorio nuevo. Este repositorio no será de \n",
    "trabajo. Solamente tendrá la información de los archivos, y los comits. \n",
    "Para esto ejecutamos, desde un directorio de prueba (por ejemplo `/tmp` o `~/Desktop`"
   ]
  },
  {
   "cell_type": "code",
   "execution_count": 4,
   "metadata": {
    "collapsed": true
   },
   "outputs": [
    {
     "name": "stdout",
     "output_type": "stream",
     "text": [
      "/home/carlosp/Desktop\n"
     ]
    }
   ],
   "source": [
    ";cd ~/Desktop"
   ]
  },
  {
   "cell_type": "code",
   "execution_count": 7,
   "metadata": {
    "collapsed": true
   },
   "outputs": [
    {
     "name": "stdout",
     "output_type": "stream",
     "text": [
      "Initialized empty Git repository in /home/carlosp/Desktop/original.git/\n"
     ]
    }
   ],
   "source": [
    ";git init --bare original.git"
   ]
  },
  {
   "cell_type": "markdown",
   "metadata": {},
   "source": [
    "Los contenidos del directorio son los contenidos del directorio ´.git´ de otros\n",
    "repositorios normales. Esto es por la opción ´--bare´.   \n",
    "Después clonamos este repositorio \"central\" a otro directorio"
   ]
  },
  {
   "cell_type": "code",
   "execution_count": 9,
   "metadata": {
    "collapsed": true
   },
   "outputs": [
    {
     "name": "stdout",
     "output_type": "stream",
     "text": [
      "total 36\n",
      "drwxr-xr-x 6 carlosp carlosp 4096 Aug 22 09:54 .\n",
      "drwxr-xr-x 5 carlosp carlosp 4096 Aug 22 09:54 ..\n",
      "-rw-r--r-- 1 carlosp carlosp   66 Aug 22 09:54 config\n",
      "-rw-r--r-- 1 carlosp carlosp   73 Aug 22 09:54 description\n",
      "-rw-r--r-- 1 carlosp carlosp   23 Aug 22 09:54 HEAD\n",
      "drwxr-xr-x 2 carlosp carlosp 4096 Aug 22 09:54 hooks\n",
      "drwxr-xr-x 2 carlosp carlosp 4096 Aug 22 09:54 info\n",
      "drwxr-xr-x 4 carlosp carlosp 4096 Aug 22 09:54 objects\n",
      "drwxr-xr-x 4 carlosp carlosp 4096 Aug 22 09:54 refs\n"
     ]
    }
   ],
   "source": [
    ";ls -la original.git"
   ]
  },
  {
   "cell_type": "code",
   "execution_count": 10,
   "metadata": {
    "collapsed": true
   },
   "outputs": [
    {
     "name": "stderr",
     "output_type": "stream",
     "text": [
      "Cloning into 'alice'...\n",
      "warning: You appear to have cloned an empty repository.\n",
      "done.\n"
     ]
    }
   ],
   "source": [
    ";git clone original.git alice"
   ]
  },
  {
   "cell_type": "markdown",
   "metadata": {},
   "source": [
    "Pero vemos que el repositorio nuevo es normal:"
   ]
  },
  {
   "cell_type": "code",
   "execution_count": null,
   "metadata": {
    "collapsed": true
   },
   "outputs": [],
   "source": [
    ";cd alice"
   ]
  },
  {
   "cell_type": "code",
   "execution_count": 25,
   "metadata": {
    "collapsed": false
   },
   "outputs": [
    {
     "name": "stdout",
     "output_type": "stream",
     "text": [
      "total 12\n",
      "drwxr-xr-x 3 carlosp carlosp 4096 Aug 22 09:57 ./\n",
      "drwxr-xr-x 6 carlosp carlosp 4096 Aug 22 09:57 ../\n",
      "drwxr-xr-x 6 carlosp carlosp 4096 Aug 22 09:57 .git/\n"
     ]
    }
   ],
   "source": [
    ";ls -alp "
   ]
  },
  {
   "cell_type": "markdown",
   "metadata": {},
   "source": [
    "Ahora creamos un archivo de prueba ahi mismo y hacemos el procedimiento usual para hacer un commit."
   ]
  },
  {
   "cell_type": "code",
   "execution_count": 27,
   "metadata": {
    "collapsed": true
   },
   "outputs": [],
   "source": [
    ";echo \"iniciamos este archivo con perros y gatos\" >> inicio.txt"
   ]
  },
  {
   "cell_type": "code",
   "execution_count": 28,
   "metadata": {
    "collapsed": false
   },
   "outputs": [
    {
     "name": "stdout",
     "output_type": "stream",
     "text": [
      "[master (root-commit) 1002a47] Commit inicial\n",
      " 1 file changed, 1 insertion(+)\n",
      " create mode 100644 inicio.txt\n"
     ]
    }
   ],
   "source": [
    ";git add . && git commit -m\"Commit inicial\""
   ]
  },
  {
   "cell_type": "markdown",
   "metadata": {},
   "source": [
    "Ahora, dado que clonamos el repositorio de otro, vamos a enviar los cambios (la creación del archivo `inicio.txt`) al respositio central:"
   ]
  },
  {
   "cell_type": "code",
   "execution_count": 30,
   "metadata": {
    "collapsed": false
   },
   "outputs": [
    {
     "name": "stderr",
     "output_type": "stream",
     "text": [
      "To /home/carlosp/Desktop/original.git\n",
      " * [new branch]      master -> master\n"
     ]
    }
   ],
   "source": [
    ";git push origin master"
   ]
  },
  {
   "cell_type": "markdown",
   "metadata": {},
   "source": [
    "La sintaxis de este comando es `git push repository branchname`. En este caso, `repository` es la dirección o referencia de algun repositorio. Esta puede ser, por `git@github.com:git/git.git`, pero por lo generalusamos alguna que esté determinada por defecto. Por ejemplo, vamos a usar  \n",
    "`origin`  \n",
    "que de acuerdo a "
   ]
  },
  {
   "cell_type": "code",
   "execution_count": 32,
   "metadata": {
    "collapsed": false
   },
   "outputs": [
    {
     "name": "stdout",
     "output_type": "stream",
     "text": [
      "origin\t/home/carlosp/Desktop/original.git (fetch)\n",
      "origin\t/home/carlosp/Desktop/original.git (push)\n"
     ]
    }
   ],
   "source": [
    ";git remote -v"
   ]
  },
  {
   "cell_type": "markdown",
   "metadata": {},
   "source": [
    "es `/home/carlosp/Desktop/tmp/original.git` (en mi caso). El `branchname` es la rama. Hasta ahora, no hemos creado ramas, por lo que nos referiremos a la rama principal, que se llama `master`. Después de el primer comando `git push origin master` podemos abreviarlo como `git push`.\n",
    "\n",
    "Ahora creamos un archivo sin importancia, y modificamos nuestro archivo importante:\n"
   ]
  },
  {
   "cell_type": "code",
   "execution_count": 33,
   "metadata": {
    "collapsed": true
   },
   "outputs": [],
   "source": [
    ";echo \"informacion trivial\" >> algo.tmp && echo \"mas informacion\" >> inicio.txt"
   ]
  },
  {
   "cell_type": "code",
   "execution_count": 34,
   "metadata": {
    "collapsed": false
   },
   "outputs": [
    {
     "name": "stdout",
     "output_type": "stream",
     "text": [
      "On branch master\n",
      "Your branch is up-to-date with 'origin/master'.\n",
      "Changes not staged for commit:\n",
      "  (use \"git add <file>...\" to update what will be committed)\n",
      "  (use \"git checkout -- <file>...\" to discard changes in working directory)\n",
      "\n",
      "\tmodified:   inicio.txt\n",
      "\n",
      "Untracked files:\n",
      "  (use \"git add <file>...\" to include in what will be committed)\n",
      "\n",
      "\talgo.tmp\n",
      "\n",
      "no changes added to commit (use \"git add\" and/or \"git commit -a\")\n"
     ]
    }
   ],
   "source": [
    ";git status"
   ]
  },
  {
   "cell_type": "markdown",
   "metadata": {},
   "source": [
    "Viendo el `status` notamos que `git` sabe que hemos cambiado el archivo `inicio.txt` y hemos creado un nuevo archivo `algo.tmp`. Supongamos que por error añadimos este último archivo sin importancia:"
   ]
  },
  {
   "cell_type": "code",
   "execution_count": 36,
   "metadata": {
    "collapsed": false
   },
   "outputs": [
    {
     "name": "stdout",
     "output_type": "stream",
     "text": [
      "On branch master\n",
      "Your branch is up-to-date with 'origin/master'.\n",
      "Changes to be committed:\n",
      "  (use \"git reset HEAD <file>...\" to unstage)\n",
      "\n",
      "\tnew file:   algo.tmp\n",
      "\tmodified:   inicio.txt\n",
      "\n"
     ]
    }
   ],
   "source": [
    ";git add . && git status"
   ]
  },
  {
   "cell_type": "markdown",
   "metadata": {},
   "source": [
    "Entonces, el archivo `algo.tmp` se encuentra listo para que los sigamos. Sin embargo, no es lo que queremos. El comando "
   ]
  },
  {
   "cell_type": "code",
   "execution_count": 37,
   "metadata": {
    "collapsed": false
   },
   "outputs": [
    {
     "name": "stdout",
     "output_type": "stream",
     "text": [
      "rm 'algo.tmp'\n"
     ]
    }
   ],
   "source": [
    ";git rm --cached algo.tmp"
   ]
  },
  {
   "cell_type": "markdown",
   "metadata": {},
   "source": [
    "hace que lo borremos de lo que queremos en el commit. Si lo incluimos en el `.gitignore`, entonces vemos que ya no aparece en el status:"
   ]
  },
  {
   "cell_type": "code",
   "execution_count": 38,
   "metadata": {
    "collapsed": true
   },
   "outputs": [],
   "source": [
    ";echo \"algo.tmp\" >> .gitignore"
   ]
  },
  {
   "cell_type": "code",
   "execution_count": 39,
   "metadata": {
    "collapsed": false
   },
   "outputs": [
    {
     "name": "stdout",
     "output_type": "stream",
     "text": [
      "On branch master\n",
      "Your branch is up-to-date with 'origin/master'.\n",
      "Changes to be committed:\n",
      "  (use \"git reset HEAD <file>...\" to unstage)\n",
      "\n",
      "\tmodified:   inicio.txt\n",
      "\n",
      "Untracked files:\n",
      "  (use \"git add <file>...\" to include in what will be committed)\n",
      "\n",
      "\t.gitignore\n",
      "\n",
      "[master ffe69a4] Se mejora el gitignore y se anade mas informcion a inicio.txt\n",
      " 2 files changed, 2 insertions(+)\n",
      " create mode 100644 .gitignore\n"
     ]
    },
    {
     "name": "stderr",
     "output_type": "stream",
     "text": [
      "To /home/carlosp/Desktop/original.git\n",
      "   1002a47..ffe69a4  master -> master\n"
     ]
    }
   ],
   "source": [
    ";git status && git add .  && git commit -m\"Se mejora el gitignore y se anade mas informcion a inicio.txt\" && git push"
   ]
  },
  {
   "cell_type": "markdown",
   "metadata": {},
   "source": [
    "## Interaccion y errores controlados\n",
    "\n",
    "Comenzamos creando otro repositorio en el que otro personaje (Bob) va a trabajar."
   ]
  },
  {
   "cell_type": "code",
   "execution_count": 41,
   "metadata": {
    "collapsed": false
   },
   "outputs": [
    {
     "name": "stdout",
     "output_type": "stream",
     "text": [
      "/home/carlosp/Desktop\n"
     ]
    }
   ],
   "source": [
    ";cd .. "
   ]
  },
  {
   "cell_type": "code",
   "execution_count": 42,
   "metadata": {
    "collapsed": false
   },
   "outputs": [
    {
     "name": "stderr",
     "output_type": "stream",
     "text": [
      "Cloning into 'bob'...\n",
      "done.\n"
     ]
    }
   ],
   "source": [
    ";git clone original.git bob"
   ]
  },
  {
   "cell_type": "code",
   "execution_count": 43,
   "metadata": {
    "collapsed": false
   },
   "outputs": [
    {
     "name": "stdout",
     "output_type": "stream",
     "text": [
      "/home/carlosp/Desktop/bob\n"
     ]
    }
   ],
   "source": [
    ";cd bob"
   ]
  },
  {
   "cell_type": "markdown",
   "metadata": {},
   "source": [
    "Para facilitar un poco la lectura de los logs, vamos a poner otro nombre para el usuario:"
   ]
  },
  {
   "cell_type": "code",
   "execution_count": null,
   "metadata": {
    "collapsed": false
   },
   "outputs": [],
   "source": [
    ";git config user.name Bob"
   ]
  },
  {
   "cell_type": "markdown",
   "metadata": {},
   "source": [
    "## Bob hace un cambio y Alice lo ve"
   ]
  },
  {
   "cell_type": "markdown",
   "metadata": {},
   "source": [
    "Ahora vamos a crear un nuevo archivo, y a enviarlo."
   ]
  },
  {
   "cell_type": "code",
   "execution_count": 44,
   "metadata": {
    "collapsed": true
   },
   "outputs": [],
   "source": [
    ";echo \"esta es una idea de Bob\" >> idea_bob.txt"
   ]
  },
  {
   "cell_type": "code",
   "execution_count": 45,
   "metadata": {
    "collapsed": false
   },
   "outputs": [
    {
     "name": "stdout",
     "output_type": "stream",
     "text": [
      "[master 7e6355b] Nueva idea\n",
      " 1 file changed, 1 insertion(+)\n",
      "commit 7e6355bb8242e381faaab31e2e1c983fdeca8544\n",
      "Author: Bob <carlospgmat03@gmail.com>\n",
      "Date:   Mon Aug 22 11:14:04 2016 -0500\n",
      "\n",
      "    Nueva idea\n",
      "\n",
      "commit a98d3e7be7839cb03f67c24b3735c4276382866c\n",
      "Author: Bob <carlospgmat03@gmail.com>\n",
      "Date:   Mon Aug 22 11:06:36 2016 -0500\n",
      "\n",
      "    Nueva idea\n",
      "\n",
      "commit ffe69a4b855abc39f923ce76dac3ea20455dee04\n",
      "Author: Carlos Pineda <carlospgmat03@gmail.com>\n",
      "Date:   Mon Aug 22 10:58:03 2016 -0500\n",
      "\n",
      "    Se mejora el gitignore y se anade mas informcion a inicio.txt\n",
      "\n",
      "commit 1002a472cd86c3d13fe5ae58ddc5839039334c89\n",
      "Author: Carlos Pineda <carlospgmat03@gmail.com>\n",
      "Date:   Mon Aug 22 10:05:15 2016 -0500\n",
      "\n",
      "    Commit inicial\n"
     ]
    },
    {
     "name": "stderr",
     "output_type": "stream",
     "text": [
      "To /home/carlosp/Desktop/original.git\n",
      "   a98d3e7..7e6355b  master -> master\n"
     ]
    }
   ],
   "source": [
    ";git add . && git commit -m\"Nueva idea\" && git push && git log"
   ]
  },
  {
   "cell_type": "markdown",
   "metadata": {},
   "source": [
    "Ahora, veamos que es lo que Alice ve. "
   ]
  },
  {
   "cell_type": "code",
   "execution_count": 46,
   "metadata": {
    "collapsed": false
   },
   "outputs": [
    {
     "name": "stdout",
     "output_type": "stream",
     "text": [
      "/home/carlosp/Desktop/alice\n"
     ]
    }
   ],
   "source": [
    ";cd ../alice"
   ]
  },
  {
   "cell_type": "code",
   "execution_count": 48,
   "metadata": {
    "collapsed": false
   },
   "outputs": [
    {
     "name": "stdout",
     "output_type": "stream",
     "text": [
      "Already up-to-date.\n"
     ]
    }
   ],
   "source": [
    ";git pull"
   ]
  },
  {
   "cell_type": "code",
   "execution_count": 50,
   "metadata": {
    "collapsed": false
   },
   "outputs": [
    {
     "name": "stdout",
     "output_type": "stream",
     "text": [
      "algo.tmp\n",
      "idea_bob.txt\n",
      "inicio.txt\n"
     ]
    }
   ],
   "source": [
    ";ls"
   ]
  },
  {
   "cell_type": "markdown",
   "metadata": {},
   "source": [
    "Efectivamente, ahora Alice tiene la nueva idea de Bob "
   ]
  },
  {
   "cell_type": "markdown",
   "metadata": {},
   "source": [
    "### Alice y Bob hacen cambios en archivos diferentes"
   ]
  },
  {
   "cell_type": "markdown",
   "metadata": {},
   "source": [
    "Vamos a hacer un cambio en un archivo de Alice, y a enviarlo al repositorio. \n",
    "\n",
    "Posteriormente intentaremos hacer lo mismo con Bob."
   ]
  },
  {
   "cell_type": "code",
   "execution_count": 53,
   "metadata": {
    "collapsed": false
   },
   "outputs": [
    {
     "name": "stdout",
     "output_type": "stream",
     "text": [
      "[master 0717b7a] Se anade la fecha\n",
      " 1 file changed, 1 insertion(+)\n"
     ]
    },
    {
     "name": "stderr",
     "output_type": "stream",
     "text": [
      "To /home/carlosp/Desktop/original.git\n",
      "   7e6355b..0717b7a  master -> master\n"
     ]
    }
   ],
   "source": [
    ";date >> inicio.txt && git add . && git commit -m\"Se anade la fecha\" && git push"
   ]
  },
  {
   "cell_type": "code",
   "execution_count": 54,
   "metadata": {
    "collapsed": false
   },
   "outputs": [
    {
     "name": "stdout",
     "output_type": "stream",
     "text": [
      "/home/carlosp/Desktop/bob\n"
     ]
    }
   ],
   "source": [
    ";cd ../bob"
   ]
  },
  {
   "cell_type": "code",
   "execution_count": 55,
   "metadata": {
    "collapsed": false
   },
   "outputs": [
    {
     "name": "stdout",
     "output_type": "stream",
     "text": [
      "[master fa64040] Se anade otra fecha\n",
      " 1 file changed, 1 insertion(+)\n"
     ]
    },
    {
     "name": "stderr",
     "output_type": "stream",
     "text": [
      "To /home/carlosp/Desktop/original.git\n",
      " ! [rejected]        master -> master (fetch first)\n",
      "error: failed to push some refs to '/home/carlosp/Desktop/original.git'\n",
      "hint: Updates were rejected because the remote contains work that you do\n",
      "hint: not have locally. This is usually caused by another repository pushing\n",
      "hint: to the same ref. You may want to first integrate the remote changes\n",
      "hint: (e.g., 'git pull ...') before pushing again.\n",
      "hint: See the 'Note about fast-forwards' in 'git push --help' for details.\n"
     ]
    }
   ],
   "source": [
    ";date >> idea_bob.txt && git add . && git commit -m\"Se anade otra fecha\" && git push"
   ]
  },
  {
   "cell_type": "markdown",
   "metadata": {},
   "source": [
    "Tenemos un problema. El cambio qeu queremos hacer ha sido rechazado [rejected]\n",
    "\n",
    "De hecho, `git` nos está diciendo como resolver el problema. Debemos traer los cambios a nuestro repositorio mediante un `pull`."
   ]
  },
  {
   "cell_type": "code",
   "execution_count": null,
   "metadata": {
    "collapsed": true
   },
   "outputs": [],
   "source": []
  },
  {
   "cell_type": "code",
   "execution_count": 56,
   "metadata": {
    "collapsed": false
   },
   "outputs": [
    {
     "name": "stdout",
     "output_type": "stream",
     "text": [
      "Merge made by the 'recursive' strategy.\n",
      " inicio.txt | 1 +\n",
      " 1 file changed, 1 insertion(+)\n"
     ]
    },
    {
     "name": "stderr",
     "output_type": "stream",
     "text": [
      "From /home/carlosp/Desktop/original\n",
      "   7e6355b..0717b7a  master     -> origin/master\n"
     ]
    }
   ],
   "source": [
    ";git pull"
   ]
  },
  {
   "cell_type": "markdown",
   "metadata": {},
   "source": [
    "y automaticamente se hace un \"merge\" que combina los cambios de las dos partes.\n",
    "\n",
    "Sin embargo, debemos hacer push para que los cambios, que se hicieron a nivel del repositorio de Bob, queden en el repositorio central. Similarmente, actualizamos a alice."
   ]
  },
  {
   "cell_type": "code",
   "execution_count": 57,
   "metadata": {
    "collapsed": false
   },
   "outputs": [
    {
     "name": "stderr",
     "output_type": "stream",
     "text": [
      "To /home/carlosp/Desktop/original.git\n",
      "   0717b7a..6bf8ce0  master -> master\n"
     ]
    }
   ],
   "source": [
    ";git push"
   ]
  },
  {
   "cell_type": "code",
   "execution_count": 59,
   "metadata": {
    "collapsed": false
   },
   "outputs": [
    {
     "name": "stdout",
     "output_type": "stream",
     "text": [
      "/home/carlosp/Desktop/alice\n"
     ]
    }
   ],
   "source": [
    ";cd ../alice"
   ]
  },
  {
   "cell_type": "code",
   "execution_count": 60,
   "metadata": {
    "collapsed": false
   },
   "outputs": [
    {
     "name": "stdout",
     "output_type": "stream",
     "text": [
      "Updating 0717b7a..6bf8ce0\n",
      "Fast-forward\n",
      " idea_bob.txt | 1 +\n",
      " 1 file changed, 1 insertion(+)\n"
     ]
    },
    {
     "name": "stderr",
     "output_type": "stream",
     "text": [
      "From /home/carlosp/Desktop/original\n",
      "   0717b7a..6bf8ce0  master     -> origin/master\n"
     ]
    }
   ],
   "source": [
    ";git pull"
   ]
  },
  {
   "cell_type": "code",
   "execution_count": 64,
   "metadata": {
    "collapsed": false
   },
   "outputs": [
    {
     "name": "stdout",
     "output_type": "stream",
     "text": [
      "*   commit 6bf8ce0ee6ea531c5e90b635260dbc43efd5e135\n",
      "|\\  Merge: fa64040 0717b7a\n",
      "| | Author: Bob <carlospgmat03@gmail.com>\n",
      "| | Date:   Mon Aug 22 11:47:16 2016 -0500\n",
      "| | \n",
      "| |     Merge branch 'master' of /home/carlosp/Desktop/original\n",
      "| |   \n",
      "| * commit 0717b7a7bbc3f6a0ac1355138c6e8bb95a7e2fa3\n",
      "| | Author: Carlos Pineda <carlospgmat03@gmail.com>\n",
      "| | Date:   Mon Aug 22 11:39:24 2016 -0500\n",
      "| | \n",
      "| |     Se anade la fecha\n",
      "| |   \n",
      "* | commit fa64040c4d4d3cda655eeeb9ed182beb8845e498\n",
      "|/  Author: Bob <carlospgmat03@gmail.com>\n",
      "|   Date:   Mon Aug 22 11:40:51 2016 -0500\n",
      "|   \n",
      "|       Se anade otra fecha\n",
      "|  \n",
      "* commit 7e6355bb8242e381faaab31e2e1c983fdeca8544\n",
      "| Author: Bob <carlospgmat03@gmail.com>\n",
      "| Date:   Mon Aug 22 11:14:04 2016 -0500\n",
      "| \n",
      "|     Nueva idea\n",
      "|  \n",
      "* commit a98d3e7be7839cb03f67c24b3735c4276382866c\n",
      "| Author: Bob <carlospgmat03@gmail.com>\n",
      "| Date:   Mon Aug 22 11:06:36 2016 -0500\n",
      "| \n",
      "|     Nueva idea\n",
      "|  \n",
      "* commit ffe69a4b855abc39f923ce76dac3ea20455dee04\n",
      "| Author: Carlos Pineda <carlospgmat03@gmail.com>\n",
      "| Date:   Mon Aug 22 10:58:03 2016 -0500\n",
      "| \n",
      "|     Se mejora el gitignore y se anade mas informcion a inicio.txt\n",
      "|  \n",
      "* commit 1002a472cd86c3d13fe5ae58ddc5839039334c89\n",
      "  Author: Carlos Pineda <carlospgmat03@gmail.com>\n",
      "  Date:   Mon Aug 22 10:05:15 2016 -0500\n",
      "  \n",
      "      Commit inicial\n"
     ]
    }
   ],
   "source": [
    ";git log --graph --pretty"
   ]
  },
  {
   "cell_type": "markdown",
   "metadata": {},
   "source": [
    "### Cuando cambiamos el mismo archivo\n",
    "\n",
    "Esto no debería pasar. Pero en la practica, nos sucede con cierta frecuencia, especialmente editando notas. \n",
    "\n",
    "Vamos a hacer cambios en las dos partes (Alice y Bob) y veamos como se comporta `git` en cada una y como resolverlo. Ambas partes editarán el archivo `inicio.txt`."
   ]
  },
  {
   "cell_type": "code",
   "execution_count": 66,
   "metadata": {
    "collapsed": false
   },
   "outputs": [
    {
     "name": "stdout",
     "output_type": "stream",
     "text": [
      "/home/carlosp/Desktop/alice\n"
     ]
    }
   ],
   "source": [
    ";pwd"
   ]
  },
  {
   "cell_type": "code",
   "execution_count": 67,
   "metadata": {
    "collapsed": false
   },
   "outputs": [
    {
     "name": "stdout",
     "output_type": "stream",
     "text": [
      "[master c05f48d] Otra idea de alicia\n",
      " 1 file changed, 1 insertion(+)\n"
     ]
    },
    {
     "name": "stderr",
     "output_type": "stream",
     "text": [
      "To /home/carlosp/Desktop/original.git\n",
      "   6bf8ce0..c05f48d  master -> master\n"
     ]
    }
   ],
   "source": [
    ";echo \"comentario de alicia\" >> inicio.txt && git add . && git commit -m\"Otra idea de alicia\" && git push"
   ]
  },
  {
   "cell_type": "code",
   "execution_count": 68,
   "metadata": {
    "collapsed": false
   },
   "outputs": [
    {
     "name": "stdout",
     "output_type": "stream",
     "text": [
      "/home/carlosp/Desktop/bob\n"
     ]
    }
   ],
   "source": [
    ";cd ../bob"
   ]
  },
  {
   "cell_type": "code",
   "execution_count": 69,
   "metadata": {
    "collapsed": false
   },
   "outputs": [
    {
     "name": "stdout",
     "output_type": "stream",
     "text": [
      "[master 086467c] Otra idea de bob\n",
      " 1 file changed, 1 insertion(+)\n"
     ]
    }
   ],
   "source": [
    ";echo \"comentario de bob\" >> inicio.txt && git add . && git commit -m\"Otra idea de bob\""
   ]
  },
  {
   "cell_type": "code",
   "execution_count": 70,
   "metadata": {
    "collapsed": false
   },
   "outputs": [
    {
     "name": "stderr",
     "output_type": "stream",
     "text": [
      "To /home/carlosp/Desktop/original.git\n",
      " ! [rejected]        master -> master (fetch first)\n",
      "error: failed to push some refs to '/home/carlosp/Desktop/original.git'\n",
      "hint: Updates were rejected because the remote contains work that you do\n",
      "hint: not have locally. This is usually caused by another repository pushing\n",
      "hint: to the same ref. You may want to first integrate the remote changes\n",
      "hint: (e.g., 'git pull ...') before pushing again.\n",
      "hint: See the 'Note about fast-forwards' in 'git push --help' for details.\n"
     ]
    }
   ],
   "source": [
    ";git push"
   ]
  },
  {
   "cell_type": "markdown",
   "metadata": {},
   "source": [
    "Naturalmente, los cambios de nuevo son rechazados. Intentamos hacer un pull, pero en esta ocasión tenemos un mensaje de error un poco mas severo. "
   ]
  },
  {
   "cell_type": "code",
   "execution_count": 71,
   "metadata": {
    "collapsed": false
   },
   "outputs": [
    {
     "name": "stdout",
     "output_type": "stream",
     "text": [
      "Auto-merging inicio.txt\n",
      "CONFLICT (content): Merge conflict in inicio.txt\n",
      "Automatic merge failed; fix conflicts and then commit the result.\n"
     ]
    },
    {
     "name": "stderr",
     "output_type": "stream",
     "text": [
      "From /home/carlosp/Desktop/original\n",
      "   6bf8ce0..c05f48d  master     -> origin/master\n"
     ]
    }
   ],
   "source": [
    ";git pull"
   ]
  },
  {
   "cell_type": "markdown",
   "metadata": {},
   "source": [
    "Este error indica que tenemos qeu resolver el conflicto en forma manuala. Si nuestro archivo es código puro, como en este caso, no hay problema. Si es un archivo un poco mas complicado, típicamente toca escoger alguna de las versiones. En nuestro caso, podemos ver los dos contenidos del archivo:"
   ]
  },
  {
   "cell_type": "code",
   "execution_count": 72,
   "metadata": {
    "collapsed": false
   },
   "outputs": [
    {
     "name": "stdout",
     "output_type": "stream",
     "text": [
      "iniciamos este archivo con perros y gatos\n",
      "mas informacion\n",
      "Mon Aug 22 11:39:24 CDT 2016\n",
      "<<<<<<< HEAD\n",
      "comentario de bob\n",
      "=======\n",
      "comentario de alicia\n",
      ">>>>>>> c05f48d7a5ada3ca4a6f9d3ae5541e7587e79f29\n"
     ]
    }
   ],
   "source": [
    ";cat inicio.txt"
   ]
  },
  {
   "cell_type": "markdown",
   "metadata": {},
   "source": [
    "Podemos editarlo manualmente para que ahora se vea asi:"
   ]
  },
  {
   "cell_type": "code",
   "execution_count": 74,
   "metadata": {
    "collapsed": false
   },
   "outputs": [
    {
     "name": "stdout",
     "output_type": "stream",
     "text": [
      "iniciamos este archivo con perros y gatos\n",
      "mas informacion\n",
      "Mon Aug 22 11:39:24 CDT 2016\n",
      "comentario de bob modificado\n",
      "comentario de alicia\n",
      "y algo mas\n",
      "\n",
      "\n",
      "\n"
     ]
    }
   ],
   "source": [
    ";cat inicio.txt"
   ]
  },
  {
   "cell_type": "markdown",
   "metadata": {
    "collapsed": true
   },
   "source": [
    "Y ya podemos hacer un commit y su posterior push."
   ]
  },
  {
   "cell_type": "code",
   "execution_count": 76,
   "metadata": {
    "collapsed": false
   },
   "outputs": [
    {
     "name": "stdout",
     "output_type": "stream",
     "text": [
      "On branch master\n",
      "Your branch is up-to-date with 'origin/master'.\n",
      "nothing to commit, working tree clean\n"
     ]
    }
   ],
   "source": [
    ";git add . && git commit -m\"Hicimos un merge manual\" && git push && git status"
   ]
  },
  {
   "cell_type": "markdown",
   "metadata": {},
   "source": [
    "# 2. Trabajando en ramas"
   ]
  },
  {
   "cell_type": "markdown",
   "metadata": {},
   "source": [
    "El concepto de una *rama* (\"branch\") en git provee una forma sencilla y eficiente de trabajar en nuevas ideas, o de colaborar en un proyecto común, evitando romper cosas que a priori ya funcionan.\n",
    "\n",
    "Para empezar, listemos las ramas existentes de un proyecto (por ejemplo, en el directorio `Alicia/`):\n",
    "```\n",
    "    > git branch\n",
    "```\n",
    "o usando\n",
    "```\n",
    "    > git branch -v\n",
    "```\n",
    "que brinda además el hash del último commit. Lo que esto indica es que existe únicamente la rama `master`, que es la rama que se crea por default (y en algún sentido es la principal), y el asterisco indica que estamos trabajando en esa rama."
   ]
  },
  {
   "cell_type": "markdown",
   "metadata": {},
   "source": [
    "Para crear una nueva rama, ejecutamos:\n",
    "```\n",
    "    > git branch <nombre_rama>\n",
    "```\n",
    "donde `<nombre_rama>` es el nombre de la rama, que es más o menos arbitrario y flexible. Un \n",
    "ejemplo es: `bugfix1`.\n",
    "\n",
    "Después de ejecutar alguna de estas instrucciones, `git branch -v` nos informa que *ambas* ramas, `master` y `bugfix1` existen, ambas están en el (mismo) último commit, y el asterisco indica que estamos en la rama `master` aún.\n",
    "\n",
    "Para cambiarnos de rama, ejecutamos:\n",
    "```\n",
    "    > git checkout <nombre_rama>\n",
    "```\n",
    "Nuevamente, existe un atajo para crear y cambiarnos de rama de un golpe: `git checkout -b <nombre_rama>`.\n",
    "\n",
    "Ahora, la linea de status cobra mas sentido. "
   ]
  },
  {
   "cell_type": "code",
   "execution_count": 77,
   "metadata": {
    "collapsed": false
   },
   "outputs": [
    {
     "name": "stdout",
     "output_type": "stream",
     "text": [
      "On branch bugfix1\n",
      "nothing to commit, working tree clean\n"
     ]
    },
    {
     "name": "stderr",
     "output_type": "stream",
     "text": [
      "Switched to a new branch 'bugfix1'\n"
     ]
    }
   ],
   "source": [
    ";git checkout -b bugfix1 && git status"
   ]
  },
  {
   "cell_type": "markdown",
   "metadata": {},
   "source": [
    "Ahora podemos crear un archivo nuevo, y modificar uno existente. "
   ]
  },
  {
   "cell_type": "code",
   "execution_count": 79,
   "metadata": {
    "collapsed": true
   },
   "outputs": [],
   "source": [
    ";echo \"propuesta para arreglo de bug 1\" >> inicio.txt && echo \"nuevo codigo qeu lo corrige\" >> arreglo_bug1.txt"
   ]
  },
  {
   "cell_type": "code",
   "execution_count": 81,
   "metadata": {
    "collapsed": false
   },
   "outputs": [
    {
     "name": "stdout",
     "output_type": "stream",
     "text": [
      "[bugfix1 1537836] Primer intento de correccion\n",
      " 2 files changed, 2 insertions(+)\n"
     ]
    }
   ],
   "source": [
    ";git add . && git commit -m\"Primer intento de correccion\""
   ]
  },
  {
   "cell_type": "code",
   "execution_count": 82,
   "metadata": {
    "collapsed": false
   },
   "outputs": [
    {
     "name": "stdout",
     "output_type": "stream",
     "text": [
      "arreglo_bug1.txt\n",
      "idea_bob.txt\n",
      "inicio.txt\n"
     ]
    }
   ],
   "source": [
    ";ls"
   ]
  },
  {
   "cell_type": "code",
   "execution_count": 83,
   "metadata": {
    "collapsed": false
   },
   "outputs": [
    {
     "name": "stdout",
     "output_type": "stream",
     "text": [
      "iniciamos este archivo con perros y gatos\n",
      "mas informacion\n",
      "Mon Aug 22 11:39:24 CDT 2016\n",
      "comentario de bob modificado\n",
      "comentario de alicia\n",
      "y algo mas\n",
      "\n",
      "\n",
      "\n",
      "propuesta para arreglo de bug 1\n",
      "propuesta para arreglo de bug 1\n"
     ]
    }
   ],
   "source": [
    ";cat inicio.txt"
   ]
  },
  {
   "cell_type": "code",
   "execution_count": 84,
   "metadata": {
    "collapsed": false
   },
   "outputs": [
    {
     "name": "stdout",
     "output_type": "stream",
     "text": [
      "Your branch is up-to-date with 'origin/master'.\n"
     ]
    },
    {
     "name": "stderr",
     "output_type": "stream",
     "text": [
      "Switched to branch 'master'\n"
     ]
    }
   ],
   "source": [
    ";git checkout master"
   ]
  },
  {
   "cell_type": "code",
   "execution_count": 85,
   "metadata": {
    "collapsed": false
   },
   "outputs": [
    {
     "name": "stdout",
     "output_type": "stream",
     "text": [
      "idea_bob.txt\n",
      "inicio.txt\n"
     ]
    }
   ],
   "source": [
    ";ls"
   ]
  },
  {
   "cell_type": "code",
   "execution_count": 86,
   "metadata": {
    "collapsed": false
   },
   "outputs": [
    {
     "name": "stdout",
     "output_type": "stream",
     "text": [
      "iniciamos este archivo con perros y gatos\n",
      "mas informacion\n",
      "Mon Aug 22 11:39:24 CDT 2016\n",
      "comentario de bob modificado\n",
      "comentario de alicia\n",
      "y algo mas\n",
      "\n",
      "\n",
      "\n"
     ]
    }
   ],
   "source": [
    ";cat inicio.txt "
   ]
  },
  {
   "cell_type": "markdown",
   "metadata": {},
   "source": [
    "El punto importante hasta el momento es que la historia de los dos branches (locales) ha divergido, y *ambas* historias están en ambas ramas.\n",
    "\n",
    "Supongamos ahora que ya están satisfechos con los cambios que han hecho, después de muchas pruebas exhaustivas y otras fallidas (tal vez en otras ramas). Ahora queremos poner estos cambios en la rama `master`. Para esto, primero nos cambiamos a `master`, que es la rama a donde queremos pasar los cambios, y después hacemos un `merge`, o sea, fundimos las dos historias:\n",
    "```\n",
    "    > git checkout master   \n",
    "    > git merge <nombre_rama>\n",
    "```\n",
    "En nuestro caso, podemos simplemente hacer un merge, de la misma manera que haciamos con otros repositorios. En este caso, lo podemos hacer directamente. "
   ]
  },
  {
   "cell_type": "code",
   "execution_count": null,
   "metadata": {
    "collapsed": true
   },
   "outputs": [],
   "source": [
    ";git checkout master && git merge bugfix1"
   ]
  },
  {
   "cell_type": "markdown",
   "metadata": {},
   "source": [
    "De nuevo, un `git log` puede resultar particularmente util, si hemos hecho cambios en diferentes branches."
   ]
  },
  {
   "cell_type": "markdown",
   "metadata": {},
   "source": [
    "#  Apendice 1: Facilitar el flujo de trabajo con GitHub"
   ]
  },
  {
   "cell_type": "markdown",
   "metadata": {},
   "source": [
    "Para evitar que GitHub te esté pidiendo tu usuario y contraseña todo el tiempo, es necesario usar *claves de SSH* (SSH keys). En Linux y Mac, el procedimiento es como sigue. NB: **No** hacer esto desde una máquina/cuenta pública."
   ]
  },
  {
   "cell_type": "markdown",
   "metadata": {},
   "source": [
    "Utiliza el comando `ssh-keygen` para generar claves nuevas. Te pedirá que pongas una clave (\"passphrase\"); esta clave tendrás que ponerla sólo una vez por sesión."
   ]
  },
  {
   "cell_type": "code",
   "execution_count": null,
   "metadata": {
    "collapsed": true
   },
   "outputs": [],
   "source": [
    ";ssh-keygen"
   ]
  },
  {
   "cell_type": "markdown",
   "metadata": {},
   "source": [
    "Esto generará claves en el directorio escondido `~/.ssh` en tu directorio hogar:"
   ]
  },
  {
   "cell_type": "code",
   "execution_count": 1,
   "metadata": {
    "collapsed": true
   },
   "outputs": [
    {
     "name": "stdout",
     "output_type": "stream",
     "text": [
      "github_rsa\n",
      "github_rsa.pub\n",
      "id_rsa\n",
      "id_rsa.pub\n",
      "known_hosts\n"
     ]
    }
   ],
   "source": [
    ";ls ~/.ssh"
   ]
  },
  {
   "cell_type": "markdown",
   "metadata": {},
   "source": [
    "Ahora, copia la clave pública; esto se puede hacer a mano (copiando el *contenido*  del archivo `id_rsa.pub`), o usando un programa. E.g. en Mac, puedes usar `pbcopy` para copiar el contenido de un archivo al clipboard:"
   ]
  },
  {
   "cell_type": "code",
   "execution_count": 2,
   "metadata": {
    "collapsed": true
   },
   "outputs": [],
   "source": [
    ";pbcopy < ~/.ssh/id_rsa.pub"
   ]
  },
  {
   "cell_type": "markdown",
   "metadata": {},
   "source": [
    "Ahora, hay que dar de alta las claves en GitHub:\n",
    "\n",
    "- Ve a la página de tu cuenta en GitHub\n",
    "- Escoge `Settings` (arriba, del lado derecho)\n",
    "- Escoge `SSH keys`\n",
    "- Escoge `Add SSH key`\n",
    "- Pega lo que copiaste\n",
    "\n",
    "Ya deberías poder hacer transacciones con GitHub sin que te pida tu usuario cada vez.\n"
   ]
  },
  {
   "cell_type": "markdown",
   "metadata": {},
   "source": [
    "Una vez más, **no** hagas esto en un máquina o cuenta pública."
   ]
  },
  {
   "cell_type": "markdown",
   "metadata": {},
   "source": [
    "# Apendice 2 Trabajar con un fork"
   ]
  },
  {
   "cell_type": "markdown",
   "metadata": {},
   "source": [
    "Normalmente hacemos un **fork** de un repositorio de interés en GitHub, es decir, una copia del repositorio en tu propia cuenta de GitHub.\n",
    "\n",
    "Al hacer `git clone ...` de tu fork, `git` provee un remote (es decir, un nombre para un repositorio remoto) llamado `origin`, que apunta a tu fork. Esto lo podemos ver con"
   ]
  },
  {
   "cell_type": "code",
   "execution_count": 5,
   "metadata": {
    "collapsed": true
   },
   "outputs": [
    {
     "name": "stdout",
     "output_type": "stream",
     "text": [
      "origin\thttps://github.com/dpsanders/MetodosNumericosAvanzados.git (fetch)\n",
      "origin\thttps://github.com/dpsanders/MetodosNumericosAvanzados.git (push)\n"
     ]
    }
   ],
   "source": [
    "; git remote -v"
   ]
  },
  {
   "cell_type": "markdown",
   "metadata": {},
   "source": [
    "Vemos que `origin` apunta al fork del repositorio `MetodosNumericosAvanzados` en mi cuenta de GitHub (con usuario `dpsanders`).\n",
    "\n",
    "Sin embargo, para mantener actualizado nuestro fork con respecto al repositorio original, debemos darle a conocer a `git` que también existe dicho repositorio. Si hacemos"
   ]
  },
  {
   "cell_type": "code",
   "execution_count": 2,
   "metadata": {
    "collapsed": true
   },
   "outputs": [
    {
     "name": "stdout",
     "output_type": "stream",
     "text": [
      "GIT-REMOTE(1)                     Git Manual                     GIT-REMOTE(1)\n",
      "\n",
      "\n",
      "\n",
      "\u001b[1mNAME\u001b[0m\n",
      "       git-remote - Manage set of tracked repositories\n",
      "\n",
      "\u001b[1mSYNOPSIS\u001b[0m\n",
      "       \u001b[4mgit\u001b[24m \u001b[4mremote\u001b[24m [-v | --verbose]\n",
      "       \u001b[4mgit\u001b[24m \u001b[4mremote\u001b[24m \u001b[4madd\u001b[24m [-t <branch>] [-m <master>] [-f] [--[no-]tags] [--mirror=<fetch|push>] <name> <url>\n",
      "       \u001b[4mgit\u001b[24m \u001b[4mremote\u001b[24m \u001b[4mrename\u001b[24m <old> <new>\n",
      "       \u001b[4mgit\u001b[24m \u001b[4mremote\u001b[24m \u001b[4mremove\u001b[24m <name>\n",
      "       \u001b[4mgit\u001b[24m \u001b[4mremote\u001b[24m \u001b[4mset-head\u001b[24m <name> (-a | --auto | -d | --delete | <branch>)\n",
      "       \u001b[4mgit\u001b[24m \u001b[4mremote\u001b[24m \u001b[4mset-branches\u001b[24m [--add] <name> <branch>...\n",
      "       \u001b[4mgit\u001b[24m \u001b[4mremote\u001b[24m \u001b[4mget-url\u001b[24m [--push] [--all] <name>\n",
      "       \u001b[4mgit\u001b[24m \u001b[4mremote\u001b[24m \u001b[4mset-url\u001b[24m [--push] <name> <newurl> [<oldurl>]\n",
      "       \u001b[4mgit\u001b[24m \u001b[4mremote\u001b[24m \u001b[4mset-url\u001b[24m \u001b[4m--add\u001b[24m [--push] <name> <newurl>\n",
      "       \u001b[4mgit\u001b[24m \u001b[4mremote\u001b[24m \u001b[4mset-url\u001b[24m \u001b[4m--delete\u001b[24m [--push] <name> <url>\n",
      "       \u001b[4mgit\u001b[24m \u001b[4mremote\u001b[24m [-v | --verbose] \u001b[4mshow\u001b[24m [-n] <name>...\n",
      "       \u001b[4mgit\u001b[24m \u001b[4mremote\u001b[24m \u001b[4mprune\u001b[24m [-n | --dry-run] <name>...\n",
      "       \u001b[4mgit\u001b[24m \u001b[4mremote\u001b[24m [-v | --verbose] \u001b[4mupdate\u001b[24m [-p | --prune] [(<group> | <remote>)...]\n",
      "\n",
      "\n",
      "\u001b[1mDESCRIPTION\u001b[0m\n",
      "       Manage the set of repositories (\"remotes\") whose branches you track.\n",
      "\n",
      "\u001b[1mOPTIONS\u001b[0m\n",
      "       -v, --verbose\n",
      "           Be a little more verbose and show remote url after name. NOTE: This\n",
      "           must be placed between \u001b[1mremote \u001b[22mand \u001b[1msubcommand\u001b[22m.\n",
      "\n",
      "\u001b[1mCOMMANDS\u001b[0m\n",
      "       With no arguments, shows a list of existing remotes. Several\n",
      "       subcommands are available to perform operations on the remotes.\n",
      "\n",
      "       \u001b[4madd\u001b[0m\n",
      "           Adds a remote named <name> for the repository at <url>. The command\n",
      "           \u001b[1mgit fetch <name> \u001b[22mcan then be used to create and update\n",
      "           remote-tracking branches <name>/<branch>.\n",
      "\n",
      "           With \u001b[1m-f \u001b[22moption, \u001b[1mgit fetch <name> \u001b[22mis run immediately after the\n",
      "           remote information is set up.\n",
      "\n",
      "           With \u001b[1m--tags \u001b[22moption, \u001b[1mgit fetch <name> \u001b[22mimports every tag from the\n",
      "           remote repository.\n",
      "\n",
      "           With \u001b[1m--no-tags \u001b[22moption, \u001b[1mgit fetch <name> \u001b[22mdoes not import tags from\n",
      "           the remote repository.\n",
      "\n",
      "           By default, only tags on fetched branches are imported (see \u001b[1mgit-\u001b[0m\n",
      "           \u001b[1mfetch\u001b[22m(1)).\n",
      "\n",
      "           With \u001b[1m-t <branch> \u001b[22moption, instead of the default glob refspec for\n",
      "           the remote to track all branches under the \u001b[1mrefs/remotes/<name>/\u001b[0m\n",
      "           namespace, a refspec to track only \u001b[1m<branch> \u001b[22mis created. You can\n",
      "           give more than one \u001b[1m-t <branch> \u001b[22mto track multiple branches without\n",
      "           grabbing all branches.\n",
      "\n",
      "           With \u001b[1m-m <master> \u001b[22moption, a symbolic-ref \u001b[1mrefs/remotes/<name>/HEAD \u001b[22mis\n",
      "           set up to point at remote’s \u001b[1m<master> \u001b[22mbranch. See also the set-head\n",
      "           command.\n",
      "\n",
      "           When a fetch mirror is created with \u001b[1m--mirror=fetch\u001b[22m, the refs will\n",
      "           not be stored in the \u001b[4mrefs/remotes/\u001b[24m namespace, but rather everything\n",
      "           in \u001b[4mrefs/\u001b[24m on the remote will be directly mirrored into \u001b[4mrefs/\u001b[24m in the\n",
      "           local repository. This option only makes sense in bare\n",
      "           repositories, because a fetch would overwrite any local commits.\n",
      "\n",
      "           When a push mirror is created with \u001b[1m--mirror=push\u001b[22m, then \u001b[1mgit push\u001b[0m\n",
      "           will always behave as if \u001b[1m--mirror \u001b[22mwas passed.\n",
      "\n",
      "       \u001b[4mrename\u001b[0m\n",
      "           Rename the remote named <old> to <new>. All remote-tracking\n",
      "           branches and configuration settings for the remote are updated.\n",
      "\n",
      "           In case <old> and <new> are the same, and <old> is a file under\n",
      "           \u001b[1m$GIT_DIR/remotes \u001b[22mor \u001b[1m$GIT_DIR/branches\u001b[22m, the remote is converted to\n",
      "           the configuration file format.\n",
      "\n",
      "       \u001b[4mremove\u001b[24m, \u001b[4mrm\u001b[0m\n",
      "           Remove the remote named <name>. All remote-tracking branches and\n",
      "           configuration settings for the remote are removed.\n",
      "\n",
      "       \u001b[4mset-head\u001b[0m\n",
      "           Sets or deletes the default branch (i.e. the target of the\n",
      "           symbolic-ref \u001b[1mrefs/remotes/<name>/HEAD\u001b[22m) for the named remote. Having\n",
      "           a default branch for a remote is not required, but allows the name\n",
      "           of the remote to be specified in lieu of a specific branch. For\n",
      "           example, if the default branch for \u001b[1morigin \u001b[22mis set to \u001b[1mmaster\u001b[22m, then\n",
      "           \u001b[1morigin \u001b[22mmay be specified wherever you would normally specify\n",
      "           \u001b[1morigin/master\u001b[22m.\n",
      "\n",
      "           With \u001b[1m-d \u001b[22mor \u001b[1m--delete\u001b[22m, the symbolic ref \u001b[1mrefs/remotes/<name>/HEAD \u001b[22mis\n",
      "           deleted.\n",
      "\n",
      "           With \u001b[1m-a \u001b[22mor \u001b[1m--auto\u001b[22m, the remote is queried to determine its \u001b[1mHEAD\u001b[22m,\n",
      "           then the symbolic-ref \u001b[1mrefs/remotes/<name>/HEAD \u001b[22mis set to the same\n",
      "           branch. e.g., if the remote \u001b[1mHEAD \u001b[22mis pointed at \u001b[1mnext\u001b[22m, \"\u001b[1mgit remote\u001b[0m\n",
      "           \u001b[1mset-head origin -a\u001b[22m\" will set the symbolic-ref\n",
      "           \u001b[1mrefs/remotes/origin/HEAD \u001b[22mto \u001b[1mrefs/remotes/origin/next\u001b[22m. This will\n",
      "           only work if \u001b[1mrefs/remotes/origin/next \u001b[22malready exists; if not it\n",
      "           must be fetched first.\n",
      "\n",
      "           Use \u001b[1m<branch> \u001b[22mto set the symbolic-ref \u001b[1mrefs/remotes/<name>/HEAD\u001b[0m\n",
      "           explicitly. e.g., \"git remote set-head origin master\" will set the\n",
      "           symbolic-ref \u001b[1mrefs/remotes/origin/HEAD \u001b[22mto\n",
      "           \u001b[1mrefs/remotes/origin/master\u001b[22m. This will only work if\n",
      "           \u001b[1mrefs/remotes/origin/master \u001b[22malready exists; if not it must be\n",
      "           fetched first.\n",
      "\n",
      "       \u001b[4mset-branches\u001b[0m\n",
      "           Changes the list of branches tracked by the named remote. This can\n",
      "           be used to track a subset of the available remote branches after\n",
      "           the initial setup for a remote.\n",
      "\n",
      "           The named branches will be interpreted as if specified with the \u001b[1m-t\u001b[0m\n",
      "           option on the \u001b[4mgit\u001b[24m \u001b[4mremote\u001b[24m \u001b[4madd\u001b[24m command line.\n",
      "\n",
      "           With \u001b[1m--add\u001b[22m, instead of replacing the list of currently tracked\n",
      "           branches, adds to that list.\n",
      "\n",
      "       \u001b[4mget-url\u001b[0m\n",
      "           Retrieves the URLs for a remote. Configurations for \u001b[1minsteadOf \u001b[22mand\n",
      "           \u001b[1mpushInsteadOf \u001b[22mare expanded here. By default, only the first URL is\n",
      "           listed.\n",
      "\n",
      "           With \u001b[4m--push\u001b[24m, push URLs are queried rather than fetch URLs.\n",
      "\n",
      "           With \u001b[4m--all\u001b[24m, all URLs for the remote will be listed.\n",
      "\n",
      "       \u001b[4mset-url\u001b[0m\n",
      "           Changes URLs for the remote. Sets first URL for remote <name> that\n",
      "           matches regex <oldurl> (first URL if no <oldurl> is given) to\n",
      "           <newurl>. If <oldurl> doesn’t match any URL, an error occurs and\n",
      "           nothing is changed.\n",
      "\n",
      "           With \u001b[4m--push\u001b[24m, push URLs are manipulated instead of fetch URLs.\n",
      "\n",
      "           With \u001b[4m--add\u001b[24m, instead of changing existing URLs, new URL is added.\n",
      "\n",
      "           With \u001b[4m--delete\u001b[24m, instead of changing existing URLs, all URLs matching\n",
      "           regex <url> are deleted for remote <name>. Trying to delete all\n",
      "           non-push URLs is an error.\n",
      "\n",
      "           Note that the push URL and the fetch URL, even though they can be\n",
      "           set differently, must still refer to the same place. What you\n",
      "           pushed to the push URL should be what you would see if you\n",
      "           immediately fetched from the fetch URL. If you are trying to fetch\n",
      "           from one place (e.g. your upstream) and push to another (e.g. your\n",
      "           publishing repository), use two separate remotes.\n",
      "\n",
      "       \u001b[4mshow\u001b[0m\n",
      "           Gives some information about the remote <name>.\n",
      "\n",
      "           With \u001b[1m-n \u001b[22moption, the remote heads are not queried first with \u001b[1mgit\u001b[0m\n",
      "           \u001b[1mls-remote <name>\u001b[22m; cached information is used instead.\n",
      "\n",
      "       \u001b[4mprune\u001b[0m\n",
      "           Deletes all stale remote-tracking branches under <name>. These\n",
      "           stale branches have already been removed from the remote repository\n",
      "           referenced by <name>, but are still locally available in\n",
      "           \"remotes/<name>\".\n",
      "\n",
      "           With \u001b[1m--dry-run \u001b[22moption, report what branches will be pruned, but do\n",
      "           not actually prune them.\n",
      "\n",
      "       \u001b[4mupdate\u001b[0m\n",
      "           Fetch updates for a named set of remotes in the repository as\n",
      "           defined by remotes.<group>. If a named group is not specified on\n",
      "           the command line, the configuration parameter remotes.default will\n",
      "           be used; if remotes.default is not defined, all remotes which do\n",
      "           not have the configuration parameter\n",
      "           remote.<name>.skipDefaultUpdate set to true will be updated. (See\n",
      "           \u001b[1mgit-config\u001b[22m(1)).\n",
      "\n",
      "           With \u001b[1m--prune \u001b[22moption, prune all the remotes that are updated.\n",
      "\n",
      "\u001b[1mDISCUSSION\u001b[0m\n",
      "       The remote configuration is achieved using the \u001b[1mremote.origin.url \u001b[22mand\n",
      "       \u001b[1mremote.origin.fetch \u001b[22mconfiguration variables. (See \u001b[1mgit-config\u001b[22m(1)).\n",
      "\n",
      "\u001b[1mEXAMPLES\u001b[0m\n",
      "       ·   Add a new remote, fetch, and check out a branch from it\n",
      "\n",
      "               $ git remote\n",
      "               origin\n",
      "               $ git branch -r\n",
      "                 origin/HEAD -> origin/master\n",
      "                 origin/master\n",
      "               $ git remote add staging git://git.kernel.org/.../gregkh/staging.git\n",
      "               $ git remote\n",
      "               origin\n",
      "               staging\n",
      "               $ git fetch staging\n",
      "               ...\n",
      "               From git://git.kernel.org/pub/scm/linux/kernel/git/gregkh/staging\n",
      "                * [new branch]      master     -> staging/master\n",
      "                * [new branch]      staging-linus -> staging/staging-linus\n",
      "                * [new branch]      staging-next -> staging/staging-next\n",
      "               $ git branch -r\n",
      "                 origin/HEAD -> origin/master\n",
      "                 origin/master\n",
      "                 staging/master\n",
      "                 staging/staging-linus\n",
      "                 staging/staging-next\n",
      "               $ git checkout -b staging staging/master\n",
      "               ...\n",
      "\n",
      "\n",
      "       ·   Imitate \u001b[4mgit\u001b[24m \u001b[4mclone\u001b[24m but track only selected branches\n",
      "\n",
      "               $ mkdir project.git\n",
      "               $ cd project.git\n",
      "               $ git init\n",
      "               $ git remote add -f -t master -m master origin git://example.com/git.git/\n",
      "               $ git merge origin\n",
      "\n",
      "\n",
      "\u001b[1mSEE ALSO\u001b[0m\n",
      "       \u001b[1mgit-fetch\u001b[22m(1) \u001b[1mgit-branch\u001b[22m(1) \u001b[1mgit-config\u001b[22m(1)\n",
      "\n",
      "\u001b[1mGIT\u001b[0m\n",
      "       Part of the \u001b[1mgit\u001b[22m(1) suite\n",
      "\n",
      "\n",
      "\n",
      "Git 2.9.2                         07/15/2016                     GIT-REMOTE(1)\n"
     ]
    }
   ],
   "source": [
    ";git help remote"
   ]
  },
  {
   "cell_type": "markdown",
   "metadata": {},
   "source": [
    "vemos que hay un subcomando `add` de remote. Así que hacemos"
   ]
  },
  {
   "cell_type": "code",
   "execution_count": 7,
   "metadata": {
    "collapsed": true
   },
   "outputs": [],
   "source": [
    "; git remote add upstream https://github.com/lbenet/MetodosNumericosAvanzados.git"
   ]
  },
  {
   "cell_type": "markdown",
   "metadata": {},
   "source": [
    "El nombre usual que se le asigna al repositorio original es `upstream`.\n",
    "\n",
    "Ahora podemos actualizar nuestro repositorio *local* con "
   ]
  },
  {
   "cell_type": "code",
   "execution_count": 8,
   "metadata": {
    "collapsed": true
   },
   "outputs": [
    {
     "name": "stderr",
     "output_type": "stream",
     "text": [
      "From https://github.com/lbenet/MetodosNumericosAvanzados\n",
      " * branch            master     -> FETCH_HEAD\n"
     ]
    },
    {
     "name": "stdout",
     "output_type": "stream",
     "text": [
      "Already up-to-date.\n"
     ]
    },
    {
     "name": "stderr",
     "output_type": "stream",
     "text": [
      " * [new branch]      master     -> upstream/master\n"
     ]
    }
   ],
   "source": [
    "; git pull upstream master"
   ]
  },
  {
   "cell_type": "markdown",
   "metadata": {},
   "source": [
    "(el cual jala la rama `master` del repositorio apuntado por `upstream`).\n",
    "\n",
    "Ahora al hacer"
   ]
  },
  {
   "cell_type": "code",
   "execution_count": 9,
   "metadata": {
    "collapsed": true
   },
   "outputs": [
    {
     "name": "stderr",
     "output_type": "stream",
     "text": [
      "To https://github.com/dpsanders/MetodosNumericosAvanzados.git\n",
      "   24f59f5..ebcb8b0  master -> master\n"
     ]
    }
   ],
   "source": [
    "; git push"
   ]
  },
  {
   "cell_type": "markdown",
   "metadata": {},
   "source": [
    "empuja los cambios a `origin`, o sea, a nuestro propio fork."
   ]
  }
 ],
 "metadata": {
  "kernelspec": {
   "display_name": "Julia 0.4.6",
   "language": "julia",
   "name": "julia-0.4"
  },
  "language_info": {
   "file_extension": ".jl",
   "mimetype": "application/julia",
   "name": "julia",
   "version": "0.4.6"
  }
 },
 "nbformat": 4,
 "nbformat_minor": 0
}
