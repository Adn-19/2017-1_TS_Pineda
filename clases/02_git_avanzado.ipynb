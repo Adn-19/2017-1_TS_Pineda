{
 "cells": [
  {
   "cell_type": "markdown",
   "metadata": {},
   "source": [
    "# 1. Trabajo colaborativo"
   ]
  },
  {
   "cell_type": "markdown",
   "metadata": {},
   "source": [
    "El flujo de trabajo que hasta ahora hemos visto es:\n",
    "\n",
    "```\n",
    "    > git init                  # inicializa un repositorio\n",
    "    > git add <archivo>         # da a conocer a git un archivo nuevo o un cambio en un archivo\n",
    "    > git status                # resume los cambios actuales\n",
    "    > git commit -m \"mensaje\"   # saca una foto instantánea del estado actual del proyecto \n",
    "    > git log                   # muestra la bitácora del proyecto\n",
    "\n",
    "```\n",
    "Otro comando que quizá usaron en la tarea fueron:\n",
    "```\n",
    "    > git push                  # sube los cambios a un repositorio central (local o remoto)\n",
    "```\n",
    "\n",
    "(Por ahora \">\" indicará la línea de comandos.)"
   ]
  },
  {
   "cell_type": "markdown",
   "metadata": {},
   "source": [
    "Ahora veremos un modelo posible de *colaboración*, que iremos complicando poco a poco. Además profundizaremos en el uso del push. "
   ]
  },
  {
   "cell_type": "markdown",
   "metadata": {},
   "source": [
    "La situación que consideraremos es la siguiente: Alicia (*Alice*) y Beto (*Bob*) colaboran en un proyecto (el que acabamos de clonar). Ambos tienen la misma versión del código. \n",
    "\n",
    "**Alicia:**\n",
    "Alicia edita el archivo `archivo.txt`, y hace algún cambio que le parece conveniente. Siguiendo el esquema de trabajo que describimos arriba, Alicia sube los cambios a su repositorio local con `git add` y `git commit`, y finalmente los sube al repositorio central: `git push`.\n",
    "\n",
    "**Beto:**\n",
    "Beto, por su parte y de manera independiente, hace cambios *al mismo archivo* en que trabajó Alicia. De la misma manera que lo hizo Alicia, Beto actualiza su repositorio local (`git add` y `git commit`) y los sube al repositorio que comparten con `git push`.\n",
    "\n",
    "*Sin embargo*, como él editó el mismo archivo en el que Alicia hizo cambios, pero usando una versión atrasada que *no* incluye los cambios de Alicia, entonces `git` detecta que hubo cambios divergentes entre la versión local de Beto, en la *rama* `master`, y la del repositorio remoto `origin/master`. Esto hace que `git` no permita subir los cambios que propone Beto, hasta que Beto resuelva los *conflictos* que hayan surgido."
   ]
  },
  {
   "cell_type": "markdown",
   "metadata": {},
   "source": [
    "## Enviando los commits a otro repositorio\n",
    "\n",
    "Vamos a tratar de producir una situación controlada en la que tengamos dicha\n",
    "situación. \n",
    "\n",
    "Para esto vamos a crear un repositorio nuevo. Este repositorio no será de \n",
    "trabajo. Solamente tendrá la información de los archivos, y los comits. \n",
    "Para esto ejecutamos, desde un directorio de prueba (por ejemplo `/tmp` o `~/Desktop`"
   ]
  },
  {
   "cell_type": "code",
   "execution_count": null,
   "metadata": {
    "collapsed": false
   },
   "outputs": [],
   "source": [
    ";cd ~/Desktop"
   ]
  },
  {
   "cell_type": "code",
   "execution_count": null,
   "metadata": {
    "collapsed": false
   },
   "outputs": [],
   "source": [
    ";git init --bare original.git"
   ]
  },
  {
   "cell_type": "markdown",
   "metadata": {},
   "source": [
    "Los contenidos del directorio son los contenidos del directorio ´.git´ de otros\n",
    "repositorios normales. Esto es por la opción ´--bare´.   \n",
    "Después clonamos este repositorio \"central\" a otro directorio"
   ]
  },
  {
   "cell_type": "code",
   "execution_count": null,
   "metadata": {
    "collapsed": false
   },
   "outputs": [],
   "source": [
    ";ls -la original.git"
   ]
  },
  {
   "cell_type": "code",
   "execution_count": null,
   "metadata": {
    "collapsed": false
   },
   "outputs": [],
   "source": [
    ";git clone original.git alice"
   ]
  },
  {
   "cell_type": "markdown",
   "metadata": {},
   "source": [
    "Pero vemos que el repositorio nuevo es normal:"
   ]
  },
  {
   "cell_type": "code",
   "execution_count": null,
   "metadata": {
    "collapsed": true
   },
   "outputs": [],
   "source": [
    ";cd alice"
   ]
  },
  {
   "cell_type": "code",
   "execution_count": null,
   "metadata": {
    "collapsed": false
   },
   "outputs": [],
   "source": [
    ";ls -alp "
   ]
  },
  {
   "cell_type": "markdown",
   "metadata": {},
   "source": [
    "Ahora creamos un archivo de prueba ahi mismo y hacemos el procedimiento usual para hacer un commit."
   ]
  },
  {
   "cell_type": "code",
   "execution_count": null,
   "metadata": {
    "collapsed": true
   },
   "outputs": [],
   "source": [
    ";echo \"iniciamos este archivo con perros y gatos\" >> inicio.txt"
   ]
  },
  {
   "cell_type": "code",
   "execution_count": null,
   "metadata": {
    "collapsed": false
   },
   "outputs": [],
   "source": [
    ";git add . && git commit -m\"Commit inicial\""
   ]
  },
  {
   "cell_type": "markdown",
   "metadata": {},
   "source": [
    "Ahora, dado que clonamos el repositorio de otro, vamos a enviar los cambios (la creación del archivo `inicio.txt`) al respositio central:"
   ]
  },
  {
   "cell_type": "code",
   "execution_count": null,
   "metadata": {
    "collapsed": false
   },
   "outputs": [],
   "source": [
    ";git push origin master"
   ]
  },
  {
   "cell_type": "markdown",
   "metadata": {},
   "source": [
    "La sintaxis de este comando es `git push repository branchname`. En este caso, `repository` es la dirección o referencia de algun repositorio. Esta puede ser, por `git@github.com:git/git.git`, pero por lo generalusamos alguna que esté determinada por defecto. Por ejemplo, vamos a usar  \n",
    "`origin`  \n",
    "que de acuerdo a "
   ]
  },
  {
   "cell_type": "code",
   "execution_count": null,
   "metadata": {
    "collapsed": false
   },
   "outputs": [],
   "source": [
    ";git remote -v"
   ]
  },
  {
   "cell_type": "markdown",
   "metadata": {},
   "source": [
    "es `/home/carlosp/Desktop/tmp/original.git` (en mi caso). El `branchname` es la rama. Hasta ahora, no hemos creado ramas, por lo que nos referiremos a la rama principal, que se llama `master`. Después de el primer comando `git push origin master` podemos abreviarlo como `git push`.\n",
    "\n",
    "Ahora creamos un archivo sin importancia, y modificamos nuestro archivo importante:\n"
   ]
  },
  {
   "cell_type": "code",
   "execution_count": null,
   "metadata": {
    "collapsed": true
   },
   "outputs": [],
   "source": [
    ";echo \"informacion trivial\" >> algo.tmp && echo \"mas informacion\" >> inicio.txt"
   ]
  },
  {
   "cell_type": "code",
   "execution_count": null,
   "metadata": {
    "collapsed": false
   },
   "outputs": [],
   "source": [
    ";git status"
   ]
  },
  {
   "cell_type": "markdown",
   "metadata": {},
   "source": [
    "Viendo el `status` notamos que `git` sabe que hemos cambiado el archivo `inicio.txt` y hemos creado un nuevo archivo `algo.tmp`. Supongamos que por error añadimos este último archivo sin importancia:"
   ]
  },
  {
   "cell_type": "code",
   "execution_count": null,
   "metadata": {
    "collapsed": false
   },
   "outputs": [],
   "source": [
    ";git add . && git status"
   ]
  },
  {
   "cell_type": "markdown",
   "metadata": {},
   "source": [
    "Entonces, el archivo `algo.tmp` se encuentra listo para que los sigamos. Sin embargo, no es lo que queremos. El comando "
   ]
  },
  {
   "cell_type": "code",
   "execution_count": null,
   "metadata": {
    "collapsed": false
   },
   "outputs": [],
   "source": [
    ";git rm --cached algo.tmp"
   ]
  },
  {
   "cell_type": "markdown",
   "metadata": {},
   "source": [
    "hace que lo borremos de lo que queremos en el commit. Si lo incluimos en el `.gitignore`, entonces vemos que ya no aparece en el status:"
   ]
  },
  {
   "cell_type": "code",
   "execution_count": null,
   "metadata": {
    "collapsed": true
   },
   "outputs": [],
   "source": [
    ";echo \"algo.tmp\" >> .gitignore"
   ]
  },
  {
   "cell_type": "code",
   "execution_count": null,
   "metadata": {
    "collapsed": false
   },
   "outputs": [],
   "source": [
    ";git status && git add .  && git commit -m\"Se mejora el gitignore y se anade mas informcion a inicio.txt\" && git push"
   ]
  },
  {
   "cell_type": "markdown",
   "metadata": {},
   "source": [
    "## Interaccion y errores controlados\n",
    "\n",
    "Comenzamos creando otro repositorio en el que otro personaje (Bob) va a trabajar."
   ]
  },
  {
   "cell_type": "code",
   "execution_count": null,
   "metadata": {
    "collapsed": false
   },
   "outputs": [],
   "source": [
    ";cd .. "
   ]
  },
  {
   "cell_type": "code",
   "execution_count": null,
   "metadata": {
    "collapsed": false
   },
   "outputs": [],
   "source": [
    ";git clone original.git bob"
   ]
  },
  {
   "cell_type": "code",
   "execution_count": null,
   "metadata": {
    "collapsed": false
   },
   "outputs": [],
   "source": [
    ";cd bob"
   ]
  },
  {
   "cell_type": "markdown",
   "metadata": {},
   "source": [
    "Para facilitar un poco la lectura de los logs, vamos a poner otro nombre para el usuario:"
   ]
  },
  {
   "cell_type": "code",
   "execution_count": null,
   "metadata": {
    "collapsed": false
   },
   "outputs": [],
   "source": [
    ";git config user.name Bob"
   ]
  },
  {
   "cell_type": "markdown",
   "metadata": {},
   "source": [
    "## Bob hace un cambio y Alice lo ve"
   ]
  },
  {
   "cell_type": "markdown",
   "metadata": {},
   "source": [
    "Ahora vamos a crear un nuevo archivo, y a enviarlo."
   ]
  },
  {
   "cell_type": "code",
   "execution_count": null,
   "metadata": {
    "collapsed": true
   },
   "outputs": [],
   "source": [
    ";echo \"esta es una idea de Bob\" >> idea_bob.txt"
   ]
  },
  {
   "cell_type": "code",
   "execution_count": null,
   "metadata": {
    "collapsed": false
   },
   "outputs": [],
   "source": [
    ";git add . && git commit -m\"Nueva idea\" && git push && git log"
   ]
  },
  {
   "cell_type": "markdown",
   "metadata": {},
   "source": [
    "Ahora, veamos que es lo que Alice ve. "
   ]
  },
  {
   "cell_type": "code",
   "execution_count": null,
   "metadata": {
    "collapsed": false
   },
   "outputs": [],
   "source": [
    ";cd ../alice"
   ]
  },
  {
   "cell_type": "code",
   "execution_count": null,
   "metadata": {
    "collapsed": false
   },
   "outputs": [],
   "source": [
    ";git pull"
   ]
  },
  {
   "cell_type": "code",
   "execution_count": null,
   "metadata": {
    "collapsed": false
   },
   "outputs": [],
   "source": [
    ";ls"
   ]
  },
  {
   "cell_type": "markdown",
   "metadata": {},
   "source": [
    "Efectivamente, ahora Alice tiene la nueva idea de Bob "
   ]
  },
  {
   "cell_type": "markdown",
   "metadata": {},
   "source": [
    "### Alice y Bob hacen cambios en archivos diferentes"
   ]
  },
  {
   "cell_type": "markdown",
   "metadata": {},
   "source": [
    "Vamos a hacer un cambio en un archivo de Alice, y a enviarlo al repositorio. \n",
    "\n",
    "Posteriormente intentaremos hacer lo mismo con Bob."
   ]
  },
  {
   "cell_type": "code",
   "execution_count": null,
   "metadata": {
    "collapsed": false
   },
   "outputs": [],
   "source": [
    ";date >> inicio.txt && git add . && git commit -m\"Se anade la fecha\" && git push"
   ]
  },
  {
   "cell_type": "code",
   "execution_count": null,
   "metadata": {
    "collapsed": false
   },
   "outputs": [],
   "source": [
    ";cd ../bob"
   ]
  },
  {
   "cell_type": "code",
   "execution_count": null,
   "metadata": {
    "collapsed": false
   },
   "outputs": [],
   "source": [
    ";date >> idea_bob.txt && git add . && git commit -m\"Se anade otra fecha\" && git push"
   ]
  },
  {
   "cell_type": "markdown",
   "metadata": {},
   "source": [
    "Tenemos un problema. El cambio qeu queremos hacer ha sido rechazado [rejected]\n",
    "\n",
    "De hecho, `git` nos está diciendo como resolver el problema. Debemos traer los cambios a nuestro repositorio mediante un `pull`."
   ]
  },
  {
   "cell_type": "code",
   "execution_count": null,
   "metadata": {
    "collapsed": true
   },
   "outputs": [],
   "source": []
  },
  {
   "cell_type": "code",
   "execution_count": null,
   "metadata": {
    "collapsed": false
   },
   "outputs": [],
   "source": [
    ";git pull"
   ]
  },
  {
   "cell_type": "markdown",
   "metadata": {},
   "source": [
    "y automaticamente se hace un \"merge\" que combina los cambios de las dos partes.\n",
    "\n",
    "Sin embargo, debemos hacer push para que los cambios, que se hicieron a nivel del repositorio de Bob, queden en el repositorio central. Similarmente, actualizamos a alice."
   ]
  },
  {
   "cell_type": "code",
   "execution_count": null,
   "metadata": {
    "collapsed": false
   },
   "outputs": [],
   "source": [
    ";git push"
   ]
  },
  {
   "cell_type": "code",
   "execution_count": null,
   "metadata": {
    "collapsed": false
   },
   "outputs": [],
   "source": [
    ";cd ../alice"
   ]
  },
  {
   "cell_type": "code",
   "execution_count": null,
   "metadata": {
    "collapsed": false
   },
   "outputs": [],
   "source": [
    ";git pull"
   ]
  },
  {
   "cell_type": "code",
   "execution_count": null,
   "metadata": {
    "collapsed": false
   },
   "outputs": [],
   "source": [
    ";git log --graph --pretty"
   ]
  },
  {
   "cell_type": "markdown",
   "metadata": {},
   "source": [
    "### Cuando cambiamos el mismo archivo\n",
    "\n",
    "Esto no debería pasar. Pero en la practica, nos sucede con cierta frecuencia, especialmente editando notas. \n",
    "\n",
    "Vamos a hacer cambios en las dos partes (Alice y Bob) y veamos como se comporta `git` en cada una y como resolverlo. Ambas partes editarán el archivo `inicio.txt`."
   ]
  },
  {
   "cell_type": "code",
   "execution_count": null,
   "metadata": {
    "collapsed": false
   },
   "outputs": [],
   "source": [
    ";pwd"
   ]
  },
  {
   "cell_type": "code",
   "execution_count": null,
   "metadata": {
    "collapsed": false
   },
   "outputs": [],
   "source": [
    ";echo \"comentario de alicia\" >> inicio.txt && git add . && git commit -m\"Otra idea de alicia\" && git push"
   ]
  },
  {
   "cell_type": "code",
   "execution_count": null,
   "metadata": {
    "collapsed": false
   },
   "outputs": [],
   "source": [
    ";cd ../bob"
   ]
  },
  {
   "cell_type": "code",
   "execution_count": null,
   "metadata": {
    "collapsed": false
   },
   "outputs": [],
   "source": [
    ";echo \"comentario de bob\" >> inicio.txt && git add . && git commit -m\"Otra idea de bob\""
   ]
  },
  {
   "cell_type": "code",
   "execution_count": null,
   "metadata": {
    "collapsed": false
   },
   "outputs": [],
   "source": [
    ";git push"
   ]
  },
  {
   "cell_type": "markdown",
   "metadata": {},
   "source": [
    "Naturalmente, los cambios de nuevo son rechazados. Intentamos hacer un pull, pero en esta ocasión tenemos un mensaje de error un poco mas severo. "
   ]
  },
  {
   "cell_type": "code",
   "execution_count": null,
   "metadata": {
    "collapsed": false
   },
   "outputs": [],
   "source": [
    ";git pull"
   ]
  },
  {
   "cell_type": "markdown",
   "metadata": {},
   "source": [
    "Este error indica que tenemos qeu resolver el conflicto en forma manuala. Si nuestro archivo es código puro, como en este caso, no hay problema. Si es un archivo un poco mas complicado, típicamente toca escoger alguna de las versiones. En nuestro caso, podemos ver los dos contenidos del archivo:"
   ]
  },
  {
   "cell_type": "code",
   "execution_count": null,
   "metadata": {
    "collapsed": false
   },
   "outputs": [],
   "source": [
    ";cat inicio.txt"
   ]
  },
  {
   "cell_type": "markdown",
   "metadata": {},
   "source": [
    "Podemos editarlo manualmente para que ahora se vea asi:"
   ]
  },
  {
   "cell_type": "code",
   "execution_count": null,
   "metadata": {
    "collapsed": false
   },
   "outputs": [],
   "source": [
    ";cat inicio.txt"
   ]
  },
  {
   "cell_type": "markdown",
   "metadata": {
    "collapsed": true
   },
   "source": [
    "Y ya podemos hacer un commit y su posterior push."
   ]
  },
  {
   "cell_type": "code",
   "execution_count": null,
   "metadata": {
    "collapsed": false
   },
   "outputs": [],
   "source": [
    ";git add . && git commit -m\"Hicimos un merge manual\" && git push && git status"
   ]
  },
  {
   "cell_type": "markdown",
   "metadata": {},
   "source": [
    "# 2. Trabajando en ramas"
   ]
  },
  {
   "cell_type": "markdown",
   "metadata": {},
   "source": [
    "El concepto de una *rama* (\"branch\") en git provee una forma sencilla y eficiente de trabajar en nuevas ideas, o de colaborar en un proyecto común, evitando romper cosas que a priori ya funcionan.\n",
    "\n",
    "Para empezar, listemos las ramas existentes de un proyecto (por ejemplo, en el directorio `Alicia/`):\n",
    "```\n",
    "    > git branch\n",
    "```\n",
    "o usando\n",
    "```\n",
    "    > git branch -v\n",
    "```\n",
    "que brinda además el hash del último commit. Lo que esto indica es que existe únicamente la rama `master`, que es la rama que se crea por default (y en algún sentido es la principal), y el asterisco indica que estamos trabajando en esa rama."
   ]
  },
  {
   "cell_type": "markdown",
   "metadata": {},
   "source": [
    "Para crear una nueva rama, ejecutamos:\n",
    "```\n",
    "    > git branch <nombre_rama>\n",
    "```\n",
    "donde `<nombre_rama>` es el nombre de la rama, que es más o menos arbitrario y flexible. Un \n",
    "ejemplo es: `bugfix1`.\n",
    "\n",
    "Después de ejecutar alguna de estas instrucciones, `git branch -v` nos informa que *ambas* ramas, `master` y `bugfix1` existen, ambas están en el (mismo) último commit, y el asterisco indica que estamos en la rama `master` aún.\n",
    "\n",
    "Para cambiarnos de rama, ejecutamos:\n",
    "```\n",
    "    > git checkout <nombre_rama>\n",
    "```\n",
    "Nuevamente, existe un atajo para crear y cambiarnos de rama de un golpe: `git checkout -b <nombre_rama>`.\n",
    "\n",
    "Ahora, la linea de status cobra mas sentido. "
   ]
  },
  {
   "cell_type": "code",
   "execution_count": null,
   "metadata": {
    "collapsed": false
   },
   "outputs": [],
   "source": [
    ";git checkout -b bugfix1 && git status"
   ]
  },
  {
   "cell_type": "markdown",
   "metadata": {},
   "source": [
    "Ahora podemos crear un archivo nuevo, y modificar uno existente. "
   ]
  },
  {
   "cell_type": "code",
   "execution_count": null,
   "metadata": {
    "collapsed": true
   },
   "outputs": [],
   "source": [
    ";echo \"propuesta para arreglo de bug 1\" >> inicio.txt && echo \"nuevo codigo qeu lo corrige\" >> arreglo_bug1.txt"
   ]
  },
  {
   "cell_type": "code",
   "execution_count": null,
   "metadata": {
    "collapsed": false
   },
   "outputs": [],
   "source": [
    ";git add . && git commit -m\"Primer intento de correccion\""
   ]
  },
  {
   "cell_type": "code",
   "execution_count": null,
   "metadata": {
    "collapsed": false
   },
   "outputs": [],
   "source": [
    ";ls"
   ]
  },
  {
   "cell_type": "code",
   "execution_count": null,
   "metadata": {
    "collapsed": false
   },
   "outputs": [],
   "source": [
    ";cat inicio.txt"
   ]
  },
  {
   "cell_type": "code",
   "execution_count": null,
   "metadata": {
    "collapsed": false
   },
   "outputs": [],
   "source": [
    ";git checkout master"
   ]
  },
  {
   "cell_type": "code",
   "execution_count": null,
   "metadata": {
    "collapsed": false
   },
   "outputs": [],
   "source": [
    ";ls"
   ]
  },
  {
   "cell_type": "code",
   "execution_count": null,
   "metadata": {
    "collapsed": false
   },
   "outputs": [],
   "source": [
    ";cat inicio.txt "
   ]
  },
  {
   "cell_type": "markdown",
   "metadata": {},
   "source": [
    "El punto importante hasta el momento es que la historia de los dos branches (locales) ha divergido, y *ambas* historias están en ambas ramas.\n",
    "\n",
    "Supongamos ahora que ya están satisfechos con los cambios que han hecho, después de muchas pruebas exhaustivas y otras fallidas (tal vez en otras ramas). Ahora queremos poner estos cambios en la rama `master`. Para esto, primero nos cambiamos a `master`, que es la rama a donde queremos pasar los cambios, y después hacemos un `merge`, o sea, fundimos las dos historias:\n",
    "```\n",
    "    > git checkout master   \n",
    "    > git merge <nombre_rama>\n",
    "```\n",
    "En nuestro caso, podemos simplemente hacer un merge, de la misma manera que haciamos con otros repositorios. En este caso, lo podemos hacer directamente. "
   ]
  },
  {
   "cell_type": "code",
   "execution_count": null,
   "metadata": {
    "collapsed": true
   },
   "outputs": [],
   "source": [
    ";git checkout master && git merge bugfix1"
   ]
  },
  {
   "cell_type": "markdown",
   "metadata": {},
   "source": [
    "De nuevo, un `git log` puede resultar particularmente util, si hemos hecho cambios en diferentes branches."
   ]
  },
  {
   "cell_type": "markdown",
   "metadata": {},
   "source": [
    "#  Apendice 1: Facilitar el flujo de trabajo con GitHub"
   ]
  },
  {
   "cell_type": "markdown",
   "metadata": {},
   "source": [
    "Para evitar que GitHub te esté pidiendo tu usuario y contraseña todo el tiempo, es necesario usar *claves de SSH* (SSH keys). En Linux y Mac, el procedimiento es como sigue. NB: **No** hacer esto desde una máquina/cuenta pública."
   ]
  },
  {
   "cell_type": "markdown",
   "metadata": {},
   "source": [
    "Utiliza el comando `ssh-keygen` para generar claves nuevas. Te pedirá que pongas una clave (\"passphrase\"); esta clave tendrás que ponerla sólo una vez por sesión."
   ]
  },
  {
   "cell_type": "code",
   "execution_count": null,
   "metadata": {
    "collapsed": true
   },
   "outputs": [],
   "source": [
    ";ssh-keygen"
   ]
  },
  {
   "cell_type": "markdown",
   "metadata": {},
   "source": [
    "Esto generará claves en el directorio escondido `~/.ssh` en tu directorio hogar:"
   ]
  },
  {
   "cell_type": "code",
   "execution_count": null,
   "metadata": {
    "collapsed": true
   },
   "outputs": [],
   "source": [
    ";ls ~/.ssh"
   ]
  },
  {
   "cell_type": "markdown",
   "metadata": {},
   "source": [
    "Ahora, copia la clave pública; esto se puede hacer a mano (copiando el *contenido*  del archivo `id_rsa.pub`), o usando un programa. E.g. en Mac, puedes usar `pbcopy` para copiar el contenido de un archivo al clipboard:"
   ]
  },
  {
   "cell_type": "code",
   "execution_count": null,
   "metadata": {
    "collapsed": true
   },
   "outputs": [],
   "source": [
    ";pbcopy < ~/.ssh/id_rsa.pub"
   ]
  },
  {
   "cell_type": "markdown",
   "metadata": {},
   "source": [
    "Ahora, hay que dar de alta las claves en GitHub:\n",
    "\n",
    "- Ve a la página de tu cuenta en GitHub\n",
    "- Escoge `Settings` (arriba, del lado derecho)\n",
    "- Escoge `SSH keys`\n",
    "- Escoge `Add SSH key`\n",
    "- Pega lo que copiaste\n",
    "\n",
    "Ya deberías poder hacer transacciones con GitHub sin que te pida tu usuario cada vez.\n"
   ]
  },
  {
   "cell_type": "markdown",
   "metadata": {},
   "source": [
    "Una vez más, **no** hagas esto en un máquina o cuenta pública."
   ]
  },
  {
   "cell_type": "markdown",
   "metadata": {},
   "source": [
    "# Apendice 2 Trabajar con un fork"
   ]
  },
  {
   "cell_type": "markdown",
   "metadata": {},
   "source": [
    "Normalmente hacemos un **fork** de un repositorio de interés en GitHub, es decir, una copia del repositorio en tu propia cuenta de GitHub.\n",
    "\n",
    "Al hacer `git clone ...` de tu fork, `git` provee un remote (es decir, un nombre para un repositorio remoto) llamado `origin`, que apunta a tu fork. Esto lo podemos ver con"
   ]
  },
  {
   "cell_type": "code",
   "execution_count": null,
   "metadata": {
    "collapsed": true
   },
   "outputs": [],
   "source": [
    "; git remote -v"
   ]
  },
  {
   "cell_type": "markdown",
   "metadata": {},
   "source": [
    "Vemos que `origin` apunta al fork del repositorio `MetodosNumericosAvanzados` en mi cuenta de GitHub (con usuario `dpsanders`).\n",
    "\n",
    "Sin embargo, para mantener actualizado nuestro fork con respecto al repositorio original, debemos darle a conocer a `git` que también existe dicho repositorio. Si hacemos"
   ]
  },
  {
   "cell_type": "code",
   "execution_count": null,
   "metadata": {
    "collapsed": true
   },
   "outputs": [],
   "source": [
    ";git help remote"
   ]
  },
  {
   "cell_type": "markdown",
   "metadata": {},
   "source": [
    "vemos que hay un subcomando `add` de remote. Así que hacemos"
   ]
  },
  {
   "cell_type": "code",
   "execution_count": null,
   "metadata": {
    "collapsed": true
   },
   "outputs": [],
   "source": [
    "; git remote add upstream https://github.com/lbenet/MetodosNumericosAvanzados.git"
   ]
  },
  {
   "cell_type": "markdown",
   "metadata": {},
   "source": [
    "El nombre usual que se le asigna al repositorio original es `upstream`.\n",
    "\n",
    "Ahora podemos actualizar nuestro repositorio *local* con "
   ]
  },
  {
   "cell_type": "code",
   "execution_count": null,
   "metadata": {
    "collapsed": true
   },
   "outputs": [],
   "source": [
    "; git pull upstream master"
   ]
  },
  {
   "cell_type": "markdown",
   "metadata": {},
   "source": [
    "(el cual jala la rama `master` del repositorio apuntado por `upstream`).\n",
    "\n",
    "Ahora al hacer"
   ]
  },
  {
   "cell_type": "code",
   "execution_count": null,
   "metadata": {
    "collapsed": true
   },
   "outputs": [],
   "source": [
    "; git push"
   ]
  },
  {
   "cell_type": "markdown",
   "metadata": {},
   "source": [
    "empuja los cambios a `origin`, o sea, a nuestro propio fork."
   ]
  }
 ],
 "metadata": {
  "kernelspec": {
   "display_name": "Julia 0.4.6",
   "language": "julia",
   "name": "julia-0.4"
  },
  "language_info": {
   "file_extension": ".jl",
   "mimetype": "application/julia",
   "name": "julia",
   "version": "0.4.6"
  }
 },
 "nbformat": 4,
 "nbformat_minor": 0
}
